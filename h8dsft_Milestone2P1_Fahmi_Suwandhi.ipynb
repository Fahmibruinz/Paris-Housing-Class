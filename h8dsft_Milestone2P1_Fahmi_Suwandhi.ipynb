{
  "cells": [
    {
      "cell_type": "markdown",
      "metadata": {
        "id": "5dvnEwuYESrY"
      },
      "source": [
        "#    1. Perkenalan"
      ]
    },
    {
      "cell_type": "markdown",
      "metadata": {
        "id": "9Gu2GEuuEHMo"
      },
      "source": [
        "> Bab pengenalan harus diisi dengan identitas, gambaran besar dataset yang digunakan, dan *objective* yang ingin dicapai."
      ]
    },
    {
      "cell_type": "markdown",
      "metadata": {
        "id": "PwYwYNe7ErFz"
      },
      "source": [
        "- Nama : Fahmi Suwandhi\n",
        "- Batch : 10"
      ]
    },
    {
      "cell_type": "markdown",
      "metadata": {
        "id": "gfhdPQgqEzY7"
      },
      "source": [
        "# 2. Import Libraries"
      ]
    },
    {
      "cell_type": "markdown",
      "metadata": {
        "id": "fsKCP6fDE9EV"
      },
      "source": [
        "> *Cell* pertama pada *notebook* **harus berisi dan hanya berisi** semua *library* yang digunakan dalam *project*."
      ]
    },
    {
      "cell_type": "code",
      "execution_count": 64,
      "metadata": {
        "id": "cj0OCOeQE8Eq"
      },
      "outputs": [],
      "source": [
        "import numpy as np\n",
        "import pandas as pd\n",
        "%matplotlib inline\n",
        "import matplotlib.pyplot as plt\n",
        "import seaborn as sns\n",
        "import warnings\n",
        "warnings.filterwarnings('ignore')\n",
        "\n",
        "# Library Input missing Value\n",
        "from sklearn.impute import SimpleImputer\n",
        "\n",
        "# Handling outlier\n",
        "from feature_engine.outliers import Winsorizer\n",
        "\n",
        "# Library Splitting Data\n",
        "from sklearn.model_selection import train_test_split\n",
        "\n",
        "# Feature Encoding\n",
        "from sklearn.preprocessing import LabelEncoder\n",
        "\n",
        "# Feature Scaling\n",
        "from sklearn.preprocessing import MinMaxScaler\n",
        "from sklearn.preprocessing import StandardScaler\n",
        "\n",
        "#Feature Encoding using OneHoTEncoder\n",
        "from sklearn.preprocessing import OneHotEncoder\n",
        "from sklearn.preprocessing import OrdinalEncoder\n",
        "\n",
        "# Features Model\n",
        "from sklearn.svm import SVC, SVR\n",
        "from sklearn.linear_model import LogisticRegression, LinearRegression\n",
        "from sklearn.ensemble import RandomForestClassifier, RandomForestRegressor\n",
        "from sklearn.tree import DecisionTreeClassifier, DecisionTreeRegressor\n",
        "from sklearn.neighbors import KNeighborsClassifier, KNeighborsRegressor\n",
        "from sklearn.naive_bayes import GaussianNB\n",
        "from sklearn.ensemble import BaggingClassifier\n",
        "from sklearn.cluster import KMeans\n",
        "\n",
        "\n",
        "# Metrics\n",
        "from sklearn.metrics import accuracy_score, classification_report, r2_score, mean_absolute_error, mean_squared_error, mean_absolute_percentage_error, confusion_matrix, ConfusionMatrixDisplay\n",
        "from sklearn.metrics import silhouette_score\n",
        "from sklearn.metrics import silhouette_samples\n",
        "from matplotlib.ticker import FixedLocator, FixedFormatter\n",
        "\n",
        "# Cross Validation\n",
        "from sklearn.model_selection import cross_val_score\n",
        "\n",
        "# Hyperparameter Tuning : Grid Search\n",
        "from sklearn.model_selection import GridSearchCV\n",
        "\n",
        "# PCA\n",
        "from sklearn.decomposition import PCA, FactorAnalysis\n",
        "\n",
        "from sklearn.pipeline import Pipeline, make_pipeline\n",
        "from sklearn.compose import ColumnTransformer\n",
        "import pickle"
      ]
    },
    {
      "cell_type": "markdown",
      "metadata": {},
      "source": [
        "#### URL Streamlit"
      ]
    },
    {
      "cell_type": "markdown",
      "metadata": {},
      "source": [
        "> - URL_frontend = https://fahmi-p1m2-frontend.herokuapp.com/\n",
        "> - URL_backend = https://fahmi-suwandhi-10-p1m2.herokuapp.com/paris_housing"
      ]
    },
    {
      "cell_type": "markdown",
      "metadata": {
        "id": "UgnWVh2TFNHU"
      },
      "source": [
        "# 3. Data Loading"
      ]
    },
    {
      "cell_type": "markdown",
      "metadata": {
        "id": "16wybGvrFQ9J"
      },
      "source": [
        "> Bagian ini berisi proses penyiapan data sebelum dilakukan eksplorasi data lebih lanjut. Proses Data Loading dapat berupa memberi nama baru untuk setiap kolom, mengecek ukuran dataset, dll."
      ]
    },
    {
      "cell_type": "code",
      "execution_count": 2,
      "metadata": {
        "id": "64F2zdISFroj"
      },
      "outputs": [
        {
          "name": "stdout",
          "output_type": "stream",
          "text": [
            "(10000, 18)\n"
          ]
        },
        {
          "data": {
            "text/html": [
              "<div>\n",
              "<style scoped>\n",
              "    .dataframe tbody tr th:only-of-type {\n",
              "        vertical-align: middle;\n",
              "    }\n",
              "\n",
              "    .dataframe tbody tr th {\n",
              "        vertical-align: top;\n",
              "    }\n",
              "\n",
              "    .dataframe thead th {\n",
              "        text-align: right;\n",
              "    }\n",
              "</style>\n",
              "<table border=\"1\" class=\"dataframe\">\n",
              "  <thead>\n",
              "    <tr style=\"text-align: right;\">\n",
              "      <th></th>\n",
              "      <th>squareMeters</th>\n",
              "      <th>numberOfRooms</th>\n",
              "      <th>hasYard</th>\n",
              "      <th>hasPool</th>\n",
              "      <th>floors</th>\n",
              "      <th>cityCode</th>\n",
              "      <th>cityPartRange</th>\n",
              "      <th>numPrevOwners</th>\n",
              "      <th>made</th>\n",
              "      <th>isNewBuilt</th>\n",
              "      <th>hasStormProtector</th>\n",
              "      <th>basement</th>\n",
              "      <th>attic</th>\n",
              "      <th>garage</th>\n",
              "      <th>hasStorageRoom</th>\n",
              "      <th>hasGuestRoom</th>\n",
              "      <th>price</th>\n",
              "      <th>category</th>\n",
              "    </tr>\n",
              "  </thead>\n",
              "  <tbody>\n",
              "    <tr>\n",
              "      <th>0</th>\n",
              "      <td>75523</td>\n",
              "      <td>3</td>\n",
              "      <td>0</td>\n",
              "      <td>1</td>\n",
              "      <td>63</td>\n",
              "      <td>9373</td>\n",
              "      <td>3</td>\n",
              "      <td>8</td>\n",
              "      <td>2005</td>\n",
              "      <td>0</td>\n",
              "      <td>1</td>\n",
              "      <td>4313</td>\n",
              "      <td>9005</td>\n",
              "      <td>956</td>\n",
              "      <td>0</td>\n",
              "      <td>7</td>\n",
              "      <td>7559081.5</td>\n",
              "      <td>Basic</td>\n",
              "    </tr>\n",
              "    <tr>\n",
              "      <th>1</th>\n",
              "      <td>80771</td>\n",
              "      <td>39</td>\n",
              "      <td>1</td>\n",
              "      <td>1</td>\n",
              "      <td>98</td>\n",
              "      <td>39381</td>\n",
              "      <td>8</td>\n",
              "      <td>6</td>\n",
              "      <td>2015</td>\n",
              "      <td>1</td>\n",
              "      <td>0</td>\n",
              "      <td>3653</td>\n",
              "      <td>2436</td>\n",
              "      <td>128</td>\n",
              "      <td>1</td>\n",
              "      <td>2</td>\n",
              "      <td>8085989.5</td>\n",
              "      <td>Luxury</td>\n",
              "    </tr>\n",
              "    <tr>\n",
              "      <th>2</th>\n",
              "      <td>55712</td>\n",
              "      <td>58</td>\n",
              "      <td>0</td>\n",
              "      <td>1</td>\n",
              "      <td>19</td>\n",
              "      <td>34457</td>\n",
              "      <td>6</td>\n",
              "      <td>8</td>\n",
              "      <td>2021</td>\n",
              "      <td>0</td>\n",
              "      <td>0</td>\n",
              "      <td>2937</td>\n",
              "      <td>8852</td>\n",
              "      <td>135</td>\n",
              "      <td>1</td>\n",
              "      <td>9</td>\n",
              "      <td>5574642.1</td>\n",
              "      <td>Basic</td>\n",
              "    </tr>\n",
              "    <tr>\n",
              "      <th>3</th>\n",
              "      <td>32316</td>\n",
              "      <td>47</td>\n",
              "      <td>0</td>\n",
              "      <td>0</td>\n",
              "      <td>6</td>\n",
              "      <td>27939</td>\n",
              "      <td>10</td>\n",
              "      <td>4</td>\n",
              "      <td>2012</td>\n",
              "      <td>0</td>\n",
              "      <td>1</td>\n",
              "      <td>659</td>\n",
              "      <td>7141</td>\n",
              "      <td>359</td>\n",
              "      <td>0</td>\n",
              "      <td>3</td>\n",
              "      <td>3232561.2</td>\n",
              "      <td>Basic</td>\n",
              "    </tr>\n",
              "    <tr>\n",
              "      <th>4</th>\n",
              "      <td>70429</td>\n",
              "      <td>19</td>\n",
              "      <td>1</td>\n",
              "      <td>1</td>\n",
              "      <td>90</td>\n",
              "      <td>38045</td>\n",
              "      <td>3</td>\n",
              "      <td>7</td>\n",
              "      <td>1990</td>\n",
              "      <td>1</td>\n",
              "      <td>0</td>\n",
              "      <td>8435</td>\n",
              "      <td>2429</td>\n",
              "      <td>292</td>\n",
              "      <td>1</td>\n",
              "      <td>4</td>\n",
              "      <td>7055052.0</td>\n",
              "      <td>Luxury</td>\n",
              "    </tr>\n",
              "  </tbody>\n",
              "</table>\n",
              "</div>"
            ],
            "text/plain": [
              "   squareMeters  numberOfRooms  hasYard  hasPool  floors  cityCode  \\\n",
              "0         75523              3        0        1      63      9373   \n",
              "1         80771             39        1        1      98     39381   \n",
              "2         55712             58        0        1      19     34457   \n",
              "3         32316             47        0        0       6     27939   \n",
              "4         70429             19        1        1      90     38045   \n",
              "\n",
              "   cityPartRange  numPrevOwners  made  isNewBuilt  hasStormProtector  \\\n",
              "0              3              8  2005           0                  1   \n",
              "1              8              6  2015           1                  0   \n",
              "2              6              8  2021           0                  0   \n",
              "3             10              4  2012           0                  1   \n",
              "4              3              7  1990           1                  0   \n",
              "\n",
              "   basement  attic  garage  hasStorageRoom  hasGuestRoom      price category  \n",
              "0      4313   9005     956               0             7  7559081.5    Basic  \n",
              "1      3653   2436     128               1             2  8085989.5   Luxury  \n",
              "2      2937   8852     135               1             9  5574642.1    Basic  \n",
              "3       659   7141     359               0             3  3232561.2    Basic  \n",
              "4      8435   2429     292               1             4  7055052.0   Luxury  "
            ]
          },
          "execution_count": 2,
          "metadata": {},
          "output_type": "execute_result"
        }
      ],
      "source": [
        "# Data load\n",
        "df = pd.read_csv('ParisHousingClass.csv')\n",
        "print(df.shape)\n",
        "df.head()"
      ]
    },
    {
      "cell_type": "markdown",
      "metadata": {},
      "source": [
        "- Exp :\n",
        "> kita dapat melihat ukuran dari data kita memiliki 10000 baris dan 18 kolom"
      ]
    },
    {
      "cell_type": "code",
      "execution_count": 3,
      "metadata": {},
      "outputs": [],
      "source": [
        "# Copy dataset original kedalam variabel df_copy\n",
        "df_ori = df.copy()"
      ]
    },
    {
      "cell_type": "markdown",
      "metadata": {
        "id": "rY7Vr5pppooo"
      },
      "source": [
        "# 4. Exploratory Data Analysis (EDA)"
      ]
    },
    {
      "cell_type": "markdown",
      "metadata": {
        "id": "IzzfjqISpw-P"
      },
      "source": [
        "> Bagian ini berisi eksplorasi data pada dataset diatas dengan menggunakan query, grouping, visualisasi sederhana, dan lain sebagainya."
      ]
    },
    {
      "cell_type": "code",
      "execution_count": 4,
      "metadata": {
        "id": "2HoreFnBpvNn"
      },
      "outputs": [
        {
          "name": "stdout",
          "output_type": "stream",
          "text": [
            "<class 'pandas.core.frame.DataFrame'>\n",
            "RangeIndex: 10000 entries, 0 to 9999\n",
            "Data columns (total 18 columns):\n",
            " #   Column             Non-Null Count  Dtype  \n",
            "---  ------             --------------  -----  \n",
            " 0   squareMeters       10000 non-null  int64  \n",
            " 1   numberOfRooms      10000 non-null  int64  \n",
            " 2   hasYard            10000 non-null  int64  \n",
            " 3   hasPool            10000 non-null  int64  \n",
            " 4   floors             10000 non-null  int64  \n",
            " 5   cityCode           10000 non-null  int64  \n",
            " 6   cityPartRange      10000 non-null  int64  \n",
            " 7   numPrevOwners      10000 non-null  int64  \n",
            " 8   made               10000 non-null  int64  \n",
            " 9   isNewBuilt         10000 non-null  int64  \n",
            " 10  hasStormProtector  10000 non-null  int64  \n",
            " 11  basement           10000 non-null  int64  \n",
            " 12  attic              10000 non-null  int64  \n",
            " 13  garage             10000 non-null  int64  \n",
            " 14  hasStorageRoom     10000 non-null  int64  \n",
            " 15  hasGuestRoom       10000 non-null  int64  \n",
            " 16  price              10000 non-null  float64\n",
            " 17  category           10000 non-null  object \n",
            "dtypes: float64(1), int64(16), object(1)\n",
            "memory usage: 1.4+ MB\n"
          ]
        }
      ],
      "source": [
        "# deskripsikan .info dari data\n",
        "df.info()"
      ]
    },
    {
      "cell_type": "markdown",
      "metadata": {},
      "source": [
        "- Exp :\n",
        "    > jika dilihat dari df.info semua tipe data nya berbentuk numerik kecuali pada kolom target, namun apabila di lihat dari dataset sebenarnya ada beberapa kolom yang seharusnya bertipe data kategorik tetapi sudah dibuatkan label encode"
      ]
    },
    {
      "cell_type": "code",
      "execution_count": 5,
      "metadata": {},
      "outputs": [
        {
          "data": {
            "text/html": [
              "<div>\n",
              "<style scoped>\n",
              "    .dataframe tbody tr th:only-of-type {\n",
              "        vertical-align: middle;\n",
              "    }\n",
              "\n",
              "    .dataframe tbody tr th {\n",
              "        vertical-align: top;\n",
              "    }\n",
              "\n",
              "    .dataframe thead th {\n",
              "        text-align: right;\n",
              "    }\n",
              "</style>\n",
              "<table border=\"1\" class=\"dataframe\">\n",
              "  <thead>\n",
              "    <tr style=\"text-align: right;\">\n",
              "      <th></th>\n",
              "      <th>squareMeters</th>\n",
              "      <th>numberOfRooms</th>\n",
              "      <th>hasYard</th>\n",
              "      <th>hasPool</th>\n",
              "      <th>floors</th>\n",
              "      <th>cityCode</th>\n",
              "      <th>cityPartRange</th>\n",
              "      <th>numPrevOwners</th>\n",
              "      <th>made</th>\n",
              "      <th>isNewBuilt</th>\n",
              "      <th>hasStormProtector</th>\n",
              "      <th>basement</th>\n",
              "      <th>attic</th>\n",
              "      <th>garage</th>\n",
              "      <th>hasStorageRoom</th>\n",
              "      <th>hasGuestRoom</th>\n",
              "      <th>price</th>\n",
              "    </tr>\n",
              "  </thead>\n",
              "  <tbody>\n",
              "    <tr>\n",
              "      <th>count</th>\n",
              "      <td>10000.00000</td>\n",
              "      <td>10000.000000</td>\n",
              "      <td>10000.000000</td>\n",
              "      <td>10000.000000</td>\n",
              "      <td>10000.000000</td>\n",
              "      <td>10000.000000</td>\n",
              "      <td>10000.000000</td>\n",
              "      <td>10000.000000</td>\n",
              "      <td>10000.00000</td>\n",
              "      <td>10000.000000</td>\n",
              "      <td>10000.000000</td>\n",
              "      <td>10000.000000</td>\n",
              "      <td>10000.00000</td>\n",
              "      <td>10000.00000</td>\n",
              "      <td>10000.000000</td>\n",
              "      <td>10000.00000</td>\n",
              "      <td>1.000000e+04</td>\n",
              "    </tr>\n",
              "    <tr>\n",
              "      <th>mean</th>\n",
              "      <td>49870.13120</td>\n",
              "      <td>50.358400</td>\n",
              "      <td>0.508700</td>\n",
              "      <td>0.496800</td>\n",
              "      <td>50.276300</td>\n",
              "      <td>50225.486100</td>\n",
              "      <td>5.510100</td>\n",
              "      <td>5.521700</td>\n",
              "      <td>2005.48850</td>\n",
              "      <td>0.499100</td>\n",
              "      <td>0.499900</td>\n",
              "      <td>5033.103900</td>\n",
              "      <td>5028.01060</td>\n",
              "      <td>553.12120</td>\n",
              "      <td>0.503000</td>\n",
              "      <td>4.99460</td>\n",
              "      <td>4.993448e+06</td>\n",
              "    </tr>\n",
              "    <tr>\n",
              "      <th>std</th>\n",
              "      <td>28774.37535</td>\n",
              "      <td>28.816696</td>\n",
              "      <td>0.499949</td>\n",
              "      <td>0.500015</td>\n",
              "      <td>28.889171</td>\n",
              "      <td>29006.675799</td>\n",
              "      <td>2.872024</td>\n",
              "      <td>2.856667</td>\n",
              "      <td>9.30809</td>\n",
              "      <td>0.500024</td>\n",
              "      <td>0.500025</td>\n",
              "      <td>2876.729545</td>\n",
              "      <td>2894.33221</td>\n",
              "      <td>262.05017</td>\n",
              "      <td>0.500016</td>\n",
              "      <td>3.17641</td>\n",
              "      <td>2.877424e+06</td>\n",
              "    </tr>\n",
              "    <tr>\n",
              "      <th>min</th>\n",
              "      <td>89.00000</td>\n",
              "      <td>1.000000</td>\n",
              "      <td>0.000000</td>\n",
              "      <td>0.000000</td>\n",
              "      <td>1.000000</td>\n",
              "      <td>3.000000</td>\n",
              "      <td>1.000000</td>\n",
              "      <td>1.000000</td>\n",
              "      <td>1990.00000</td>\n",
              "      <td>0.000000</td>\n",
              "      <td>0.000000</td>\n",
              "      <td>0.000000</td>\n",
              "      <td>1.00000</td>\n",
              "      <td>100.00000</td>\n",
              "      <td>0.000000</td>\n",
              "      <td>0.00000</td>\n",
              "      <td>1.031350e+04</td>\n",
              "    </tr>\n",
              "    <tr>\n",
              "      <th>25%</th>\n",
              "      <td>25098.50000</td>\n",
              "      <td>25.000000</td>\n",
              "      <td>0.000000</td>\n",
              "      <td>0.000000</td>\n",
              "      <td>25.000000</td>\n",
              "      <td>24693.750000</td>\n",
              "      <td>3.000000</td>\n",
              "      <td>3.000000</td>\n",
              "      <td>1997.00000</td>\n",
              "      <td>0.000000</td>\n",
              "      <td>0.000000</td>\n",
              "      <td>2559.750000</td>\n",
              "      <td>2512.00000</td>\n",
              "      <td>327.75000</td>\n",
              "      <td>0.000000</td>\n",
              "      <td>2.00000</td>\n",
              "      <td>2.516402e+06</td>\n",
              "    </tr>\n",
              "    <tr>\n",
              "      <th>50%</th>\n",
              "      <td>50105.50000</td>\n",
              "      <td>50.000000</td>\n",
              "      <td>1.000000</td>\n",
              "      <td>0.000000</td>\n",
              "      <td>50.000000</td>\n",
              "      <td>50693.000000</td>\n",
              "      <td>5.000000</td>\n",
              "      <td>5.000000</td>\n",
              "      <td>2005.50000</td>\n",
              "      <td>0.000000</td>\n",
              "      <td>0.000000</td>\n",
              "      <td>5092.500000</td>\n",
              "      <td>5045.00000</td>\n",
              "      <td>554.00000</td>\n",
              "      <td>1.000000</td>\n",
              "      <td>5.00000</td>\n",
              "      <td>5.016180e+06</td>\n",
              "    </tr>\n",
              "    <tr>\n",
              "      <th>75%</th>\n",
              "      <td>74609.75000</td>\n",
              "      <td>75.000000</td>\n",
              "      <td>1.000000</td>\n",
              "      <td>1.000000</td>\n",
              "      <td>76.000000</td>\n",
              "      <td>75683.250000</td>\n",
              "      <td>8.000000</td>\n",
              "      <td>8.000000</td>\n",
              "      <td>2014.00000</td>\n",
              "      <td>1.000000</td>\n",
              "      <td>1.000000</td>\n",
              "      <td>7511.250000</td>\n",
              "      <td>7540.50000</td>\n",
              "      <td>777.25000</td>\n",
              "      <td>1.000000</td>\n",
              "      <td>8.00000</td>\n",
              "      <td>7.469092e+06</td>\n",
              "    </tr>\n",
              "    <tr>\n",
              "      <th>max</th>\n",
              "      <td>99999.00000</td>\n",
              "      <td>100.000000</td>\n",
              "      <td>1.000000</td>\n",
              "      <td>1.000000</td>\n",
              "      <td>100.000000</td>\n",
              "      <td>99953.000000</td>\n",
              "      <td>10.000000</td>\n",
              "      <td>10.000000</td>\n",
              "      <td>2021.00000</td>\n",
              "      <td>1.000000</td>\n",
              "      <td>1.000000</td>\n",
              "      <td>10000.000000</td>\n",
              "      <td>10000.00000</td>\n",
              "      <td>1000.00000</td>\n",
              "      <td>1.000000</td>\n",
              "      <td>10.00000</td>\n",
              "      <td>1.000677e+07</td>\n",
              "    </tr>\n",
              "  </tbody>\n",
              "</table>\n",
              "</div>"
            ],
            "text/plain": [
              "       squareMeters  numberOfRooms       hasYard       hasPool        floors  \\\n",
              "count   10000.00000   10000.000000  10000.000000  10000.000000  10000.000000   \n",
              "mean    49870.13120      50.358400      0.508700      0.496800     50.276300   \n",
              "std     28774.37535      28.816696      0.499949      0.500015     28.889171   \n",
              "min        89.00000       1.000000      0.000000      0.000000      1.000000   \n",
              "25%     25098.50000      25.000000      0.000000      0.000000     25.000000   \n",
              "50%     50105.50000      50.000000      1.000000      0.000000     50.000000   \n",
              "75%     74609.75000      75.000000      1.000000      1.000000     76.000000   \n",
              "max     99999.00000     100.000000      1.000000      1.000000    100.000000   \n",
              "\n",
              "           cityCode  cityPartRange  numPrevOwners         made    isNewBuilt  \\\n",
              "count  10000.000000   10000.000000   10000.000000  10000.00000  10000.000000   \n",
              "mean   50225.486100       5.510100       5.521700   2005.48850      0.499100   \n",
              "std    29006.675799       2.872024       2.856667      9.30809      0.500024   \n",
              "min        3.000000       1.000000       1.000000   1990.00000      0.000000   \n",
              "25%    24693.750000       3.000000       3.000000   1997.00000      0.000000   \n",
              "50%    50693.000000       5.000000       5.000000   2005.50000      0.000000   \n",
              "75%    75683.250000       8.000000       8.000000   2014.00000      1.000000   \n",
              "max    99953.000000      10.000000      10.000000   2021.00000      1.000000   \n",
              "\n",
              "       hasStormProtector      basement        attic       garage  \\\n",
              "count       10000.000000  10000.000000  10000.00000  10000.00000   \n",
              "mean            0.499900   5033.103900   5028.01060    553.12120   \n",
              "std             0.500025   2876.729545   2894.33221    262.05017   \n",
              "min             0.000000      0.000000      1.00000    100.00000   \n",
              "25%             0.000000   2559.750000   2512.00000    327.75000   \n",
              "50%             0.000000   5092.500000   5045.00000    554.00000   \n",
              "75%             1.000000   7511.250000   7540.50000    777.25000   \n",
              "max             1.000000  10000.000000  10000.00000   1000.00000   \n",
              "\n",
              "       hasStorageRoom  hasGuestRoom         price  \n",
              "count    10000.000000   10000.00000  1.000000e+04  \n",
              "mean         0.503000       4.99460  4.993448e+06  \n",
              "std          0.500016       3.17641  2.877424e+06  \n",
              "min          0.000000       0.00000  1.031350e+04  \n",
              "25%          0.000000       2.00000  2.516402e+06  \n",
              "50%          1.000000       5.00000  5.016180e+06  \n",
              "75%          1.000000       8.00000  7.469092e+06  \n",
              "max          1.000000      10.00000  1.000677e+07  "
            ]
          },
          "execution_count": 5,
          "metadata": {},
          "output_type": "execute_result"
        }
      ],
      "source": [
        "# data describe\n",
        "df.describe()"
      ]
    },
    {
      "cell_type": "markdown",
      "metadata": {},
      "source": [
        "- Exp :\n",
        "    > - Menurut data describe diatas rata\" luas tanah di perumahan ini sebesar 49870 meter\n",
        "    > - rata\" jumlah kamar dan lantai sekitar 50"
      ]
    },
    {
      "cell_type": "code",
      "execution_count": 6,
      "metadata": {},
      "outputs": [
        {
          "name": "stdout",
          "output_type": "stream",
          "text": [
            "Basic     8735\n",
            "Luxury    1265\n",
            "Name: category, dtype: int64\n"
          ]
        },
        {
          "data": {
            "image/png": "[encoded data removed]",
            "text/plain": [
              "<Figure size 432x288 with 1 Axes>"
            ]
          },
          "metadata": {
            "needs_background": "light"
          },
          "output_type": "display_data"
        }
      ],
      "source": [
        "# Cek jumlah data dari kolom target\n",
        "df['category'].value_counts().plot(kind='bar')\n",
        "print(df['category'].value_counts())"
      ]
    },
    {
      "cell_type": "markdown",
      "metadata": {},
      "source": [
        "- Exp :\n",
        "    > - Jika dilihat dari kolom target jumlah perumahan dengan kategori basic lebih banyak dibandingkan dengan luxury. hal ini dapat menyebabkan data menjadi inbalance dan mempengaruhi model"
      ]
    },
    {
      "cell_type": "code",
      "execution_count": 7,
      "metadata": {},
      "outputs": [
        {
          "data": {
            "text/plain": [
              "<AxesSubplot:xlabel='isNewBuilt', ylabel='count'>"
            ]
          },
          "execution_count": 7,
          "metadata": {},
          "output_type": "execute_result"
        },
        {
          "data": {
            "image/png": "[encoded data removed]",
            "text/plain": [
              "<Figure size 576x504 with 1 Axes>"
            ]
          },
          "metadata": {
            "needs_background": "light"
          },
          "output_type": "display_data"
        }
      ],
      "source": [
        "# Visualisasi kolom isNewBuilt\n",
        "plt.figure(figsize=(8,7))\n",
        "sns.countplot(x='isNewBuilt',hue='category',palette=\"cubehelix\", data=df)"
      ]
    },
    {
      "cell_type": "markdown",
      "metadata": {},
      "source": [
        "- Exp :\n",
        "    > - jika dilihat dari data dimana angka 0 adalah tidak dilakukan renovasi dan angka 1 sudah dilakukan renovasi\n",
        "    > - untuk perumahan bertipe basic ada sekitar 5000 unit yang tidak dilakukan renocasi dan sekitar 3500 unit telah dilakukan renovasi\n",
        "    > - untuk perumahan bertipe luxury semua unit telah dilakukan renovasi"
      ]
    },
    {
      "cell_type": "code",
      "execution_count": 8,
      "metadata": {},
      "outputs": [
        {
          "data": {
            "text/plain": [
              "<AxesSubplot:xlabel='cityPartRange', ylabel='count'>"
            ]
          },
          "execution_count": 8,
          "metadata": {},
          "output_type": "execute_result"
        },
        {
          "data": {
            "image/png": "[encoded data removed]",
            "text/plain": [
              "<Figure size 576x504 with 1 Axes>"
            ]
          },
          "metadata": {
            "needs_background": "light"
          },
          "output_type": "display_data"
        }
      ],
      "source": [
        "# Visualisasi city part range\n",
        "plt.figure(figsize=(8,7))\n",
        "sns.countplot(x='cityPartRange',hue='category', palette='magma',data=df)"
      ]
    },
    {
      "cell_type": "markdown",
      "metadata": {},
      "source": [
        "- exp :\n",
        "    > - pada kolo cityPartRange adalah semakin tinggi jangkauannya semakin ekslusif lingkungan perumahannya\n",
        "    > - jika di lihat dari visualisasi histogram tipe basic dan luxury memiliki tingkat ekslusif lingkungan perumahannya cukup merata dari yang paling ekslusif sampai yang tidak"
      ]
    },
    {
      "cell_type": "code",
      "execution_count": 9,
      "metadata": {},
      "outputs": [
        {
          "data": {
            "image/png": "[encoded data removed]",
            "text/plain": [
              "<Figure size 1440x1080 with 20 Axes>"
            ]
          },
          "metadata": {
            "needs_background": "light"
          },
          "output_type": "display_data"
        }
      ],
      "source": [
        "# Visualisasi persebaran data setiap columns\n",
        "%matplotlib inline\n",
        "import matplotlib.pyplot as plt\n",
        "df.select_dtypes(include=np.number).hist(bins=50, figsize=(20,15))\n",
        "\n",
        "plt.show()"
      ]
    },
    {
      "cell_type": "markdown",
      "metadata": {
        "id": "msW1Lj9-p3Ja"
      },
      "source": [
        "# 5. Data Preprocessing"
      ]
    },
    {
      "cell_type": "markdown",
      "metadata": {
        "id": "Ba4gM1ofp-iK"
      },
      "source": [
        "> Bagian ini berisi proses penyiapan data untuk proses pelatihan model, seperti pembagian data menjadi train-dev-test, transformasi data (normalisasi, encoding, dll.), dan proses-proses lain yang dibutuhkan."
      ]
    },
    {
      "cell_type": "markdown",
      "metadata": {},
      "source": [
        "#### 5.1 Data Inference"
      ]
    },
    {
      "cell_type": "code",
      "execution_count": 10,
      "metadata": {
        "id": "xIfV6XWhp89H"
      },
      "outputs": [
        {
          "data": {
            "text/html": [
              "<div>\n",
              "<style scoped>\n",
              "    .dataframe tbody tr th:only-of-type {\n",
              "        vertical-align: middle;\n",
              "    }\n",
              "\n",
              "    .dataframe tbody tr th {\n",
              "        vertical-align: top;\n",
              "    }\n",
              "\n",
              "    .dataframe thead th {\n",
              "        text-align: right;\n",
              "    }\n",
              "</style>\n",
              "<table border=\"1\" class=\"dataframe\">\n",
              "  <thead>\n",
              "    <tr style=\"text-align: right;\">\n",
              "      <th></th>\n",
              "      <th>squareMeters</th>\n",
              "      <th>numberOfRooms</th>\n",
              "      <th>hasYard</th>\n",
              "      <th>hasPool</th>\n",
              "      <th>floors</th>\n",
              "      <th>cityCode</th>\n",
              "      <th>cityPartRange</th>\n",
              "      <th>numPrevOwners</th>\n",
              "      <th>made</th>\n",
              "      <th>isNewBuilt</th>\n",
              "      <th>hasStormProtector</th>\n",
              "      <th>basement</th>\n",
              "      <th>attic</th>\n",
              "      <th>garage</th>\n",
              "      <th>hasStorageRoom</th>\n",
              "      <th>hasGuestRoom</th>\n",
              "      <th>price</th>\n",
              "      <th>category</th>\n",
              "    </tr>\n",
              "  </thead>\n",
              "  <tbody>\n",
              "    <tr>\n",
              "      <th>0</th>\n",
              "      <td>26506</td>\n",
              "      <td>95</td>\n",
              "      <td>0</td>\n",
              "      <td>1</td>\n",
              "      <td>69</td>\n",
              "      <td>86093</td>\n",
              "      <td>4</td>\n",
              "      <td>3</td>\n",
              "      <td>2015</td>\n",
              "      <td>1</td>\n",
              "      <td>0</td>\n",
              "      <td>9373</td>\n",
              "      <td>6376</td>\n",
              "      <td>509</td>\n",
              "      <td>0</td>\n",
              "      <td>1</td>\n",
              "      <td>2660579.5</td>\n",
              "      <td>Basic</td>\n",
              "    </tr>\n",
              "    <tr>\n",
              "      <th>1</th>\n",
              "      <td>48403</td>\n",
              "      <td>62</td>\n",
              "      <td>0</td>\n",
              "      <td>0</td>\n",
              "      <td>3</td>\n",
              "      <td>52029</td>\n",
              "      <td>4</td>\n",
              "      <td>9</td>\n",
              "      <td>1996</td>\n",
              "      <td>1</td>\n",
              "      <td>0</td>\n",
              "      <td>5786</td>\n",
              "      <td>9954</td>\n",
              "      <td>941</td>\n",
              "      <td>0</td>\n",
              "      <td>10</td>\n",
              "      <td>4841127.6</td>\n",
              "      <td>Basic</td>\n",
              "    </tr>\n",
              "    <tr>\n",
              "      <th>2</th>\n",
              "      <td>85429</td>\n",
              "      <td>60</td>\n",
              "      <td>1</td>\n",
              "      <td>1</td>\n",
              "      <td>57</td>\n",
              "      <td>75588</td>\n",
              "      <td>7</td>\n",
              "      <td>6</td>\n",
              "      <td>2016</td>\n",
              "      <td>1</td>\n",
              "      <td>1</td>\n",
              "      <td>1421</td>\n",
              "      <td>6473</td>\n",
              "      <td>405</td>\n",
              "      <td>0</td>\n",
              "      <td>8</td>\n",
              "      <td>8553293.6</td>\n",
              "      <td>Luxury</td>\n",
              "    </tr>\n",
              "    <tr>\n",
              "      <th>3</th>\n",
              "      <td>58394</td>\n",
              "      <td>19</td>\n",
              "      <td>1</td>\n",
              "      <td>0</td>\n",
              "      <td>56</td>\n",
              "      <td>19251</td>\n",
              "      <td>6</td>\n",
              "      <td>3</td>\n",
              "      <td>2001</td>\n",
              "      <td>0</td>\n",
              "      <td>0</td>\n",
              "      <td>3215</td>\n",
              "      <td>9841</td>\n",
              "      <td>239</td>\n",
              "      <td>0</td>\n",
              "      <td>8</td>\n",
              "      <td>5848843.1</td>\n",
              "      <td>Basic</td>\n",
              "    </tr>\n",
              "    <tr>\n",
              "      <th>4</th>\n",
              "      <td>10830</td>\n",
              "      <td>28</td>\n",
              "      <td>0</td>\n",
              "      <td>1</td>\n",
              "      <td>65</td>\n",
              "      <td>56534</td>\n",
              "      <td>5</td>\n",
              "      <td>8</td>\n",
              "      <td>2006</td>\n",
              "      <td>0</td>\n",
              "      <td>1</td>\n",
              "      <td>5829</td>\n",
              "      <td>9328</td>\n",
              "      <td>439</td>\n",
              "      <td>0</td>\n",
              "      <td>1</td>\n",
              "      <td>1093719.6</td>\n",
              "      <td>Basic</td>\n",
              "    </tr>\n",
              "    <tr>\n",
              "      <th>5</th>\n",
              "      <td>30300</td>\n",
              "      <td>49</td>\n",
              "      <td>0</td>\n",
              "      <td>0</td>\n",
              "      <td>74</td>\n",
              "      <td>95266</td>\n",
              "      <td>7</td>\n",
              "      <td>3</td>\n",
              "      <td>1998</td>\n",
              "      <td>1</td>\n",
              "      <td>0</td>\n",
              "      <td>6474</td>\n",
              "      <td>5517</td>\n",
              "      <td>988</td>\n",
              "      <td>0</td>\n",
              "      <td>1</td>\n",
              "      <td>3033117.8</td>\n",
              "      <td>Basic</td>\n",
              "    </tr>\n",
              "    <tr>\n",
              "      <th>6</th>\n",
              "      <td>58752</td>\n",
              "      <td>79</td>\n",
              "      <td>0</td>\n",
              "      <td>0</td>\n",
              "      <td>98</td>\n",
              "      <td>82396</td>\n",
              "      <td>4</td>\n",
              "      <td>9</td>\n",
              "      <td>1997</td>\n",
              "      <td>0</td>\n",
              "      <td>1</td>\n",
              "      <td>9961</td>\n",
              "      <td>3122</td>\n",
              "      <td>831</td>\n",
              "      <td>0</td>\n",
              "      <td>4</td>\n",
              "      <td>5881679.7</td>\n",
              "      <td>Basic</td>\n",
              "    </tr>\n",
              "    <tr>\n",
              "      <th>7</th>\n",
              "      <td>75927</td>\n",
              "      <td>100</td>\n",
              "      <td>1</td>\n",
              "      <td>1</td>\n",
              "      <td>38</td>\n",
              "      <td>55528</td>\n",
              "      <td>5</td>\n",
              "      <td>3</td>\n",
              "      <td>2001</td>\n",
              "      <td>1</td>\n",
              "      <td>0</td>\n",
              "      <td>4681</td>\n",
              "      <td>1453</td>\n",
              "      <td>472</td>\n",
              "      <td>1</td>\n",
              "      <td>7</td>\n",
              "      <td>7599356.1</td>\n",
              "      <td>Luxury</td>\n",
              "    </tr>\n",
              "    <tr>\n",
              "      <th>8</th>\n",
              "      <td>77913</td>\n",
              "      <td>53</td>\n",
              "      <td>1</td>\n",
              "      <td>1</td>\n",
              "      <td>64</td>\n",
              "      <td>12082</td>\n",
              "      <td>1</td>\n",
              "      <td>10</td>\n",
              "      <td>2007</td>\n",
              "      <td>0</td>\n",
              "      <td>1</td>\n",
              "      <td>328</td>\n",
              "      <td>6752</td>\n",
              "      <td>609</td>\n",
              "      <td>1</td>\n",
              "      <td>10</td>\n",
              "      <td>7801697.7</td>\n",
              "      <td>Basic</td>\n",
              "    </tr>\n",
              "    <tr>\n",
              "      <th>9</th>\n",
              "      <td>59800</td>\n",
              "      <td>47</td>\n",
              "      <td>0</td>\n",
              "      <td>1</td>\n",
              "      <td>27</td>\n",
              "      <td>44815</td>\n",
              "      <td>6</td>\n",
              "      <td>9</td>\n",
              "      <td>2021</td>\n",
              "      <td>0</td>\n",
              "      <td>0</td>\n",
              "      <td>5075</td>\n",
              "      <td>3104</td>\n",
              "      <td>864</td>\n",
              "      <td>0</td>\n",
              "      <td>4</td>\n",
              "      <td>5984462.1</td>\n",
              "      <td>Basic</td>\n",
              "    </tr>\n",
              "  </tbody>\n",
              "</table>\n",
              "</div>"
            ],
            "text/plain": [
              "   squareMeters  numberOfRooms  hasYard  hasPool  floors  cityCode  \\\n",
              "0         26506             95        0        1      69     86093   \n",
              "1         48403             62        0        0       3     52029   \n",
              "2         85429             60        1        1      57     75588   \n",
              "3         58394             19        1        0      56     19251   \n",
              "4         10830             28        0        1      65     56534   \n",
              "5         30300             49        0        0      74     95266   \n",
              "6         58752             79        0        0      98     82396   \n",
              "7         75927            100        1        1      38     55528   \n",
              "8         77913             53        1        1      64     12082   \n",
              "9         59800             47        0        1      27     44815   \n",
              "\n",
              "   cityPartRange  numPrevOwners  made  isNewBuilt  hasStormProtector  \\\n",
              "0              4              3  2015           1                  0   \n",
              "1              4              9  1996           1                  0   \n",
              "2              7              6  2016           1                  1   \n",
              "3              6              3  2001           0                  0   \n",
              "4              5              8  2006           0                  1   \n",
              "5              7              3  1998           1                  0   \n",
              "6              4              9  1997           0                  1   \n",
              "7              5              3  2001           1                  0   \n",
              "8              1             10  2007           0                  1   \n",
              "9              6              9  2021           0                  0   \n",
              "\n",
              "   basement  attic  garage  hasStorageRoom  hasGuestRoom      price category  \n",
              "0      9373   6376     509               0             1  2660579.5    Basic  \n",
              "1      5786   9954     941               0            10  4841127.6    Basic  \n",
              "2      1421   6473     405               0             8  8553293.6   Luxury  \n",
              "3      3215   9841     239               0             8  5848843.1    Basic  \n",
              "4      5829   9328     439               0             1  1093719.6    Basic  \n",
              "5      6474   5517     988               0             1  3033117.8    Basic  \n",
              "6      9961   3122     831               0             4  5881679.7    Basic  \n",
              "7      4681   1453     472               1             7  7599356.1   Luxury  \n",
              "8       328   6752     609               1            10  7801697.7    Basic  \n",
              "9      5075   3104     864               0             4  5984462.1    Basic  "
            ]
          },
          "execution_count": 10,
          "metadata": {},
          "output_type": "execute_result"
        }
      ],
      "source": [
        "# Mengambil data inference dari data set\n",
        "df_inf = df.sample(10, random_state=9)\n",
        "\n",
        "# Remove Inference-Set dari Dataset\n",
        "\n",
        "df_train_test = df.drop(df_inf.index)\n",
        "df_train_test\n",
        "\n",
        "# Reset Index \n",
        "df_train_test.reset_index(drop=True, inplace=True)\n",
        "df_inf.reset_index(drop=True, inplace=True)\n",
        "df_inf"
      ]
    },
    {
      "cell_type": "markdown",
      "metadata": {},
      "source": [
        "#### 5.2 Split Dataset"
      ]
    },
    {
      "cell_type": "code",
      "execution_count": 11,
      "metadata": {},
      "outputs": [],
      "source": [
        "# split untuk model classification dan regresi\n",
        "# Target classification\n",
        "df_class = df_train_test.drop('price', axis=1)\n",
        "\n",
        "# Target Regresi\n",
        "df_reg = df_train_test.drop('category', axis=1)"
      ]
    },
    {
      "cell_type": "code",
      "execution_count": 12,
      "metadata": {},
      "outputs": [
        {
          "name": "stdout",
          "output_type": "stream",
          "text": [
            "Train Size :  (7992, 16)\n",
            "Test Size  :  (1998, 16)\n",
            "y_train Size  :  (7992,)\n",
            "y_test Size  :  (1998,)\n"
          ]
        }
      ],
      "source": [
        "# target Classification\n",
        "# Split between X (features) and y (target)\n",
        "\n",
        "X1 = df_class.drop('category', axis=1)\n",
        "y1 = df_class['category']\n",
        "\n",
        "# Split untuk Train-Set and Test-Set\n",
        "\n",
        "X_train1, X_test1, y_train1, y_test1 = train_test_split(X1, y1, test_size=0.2, random_state=17)\n",
        "\n",
        "print('Train Size : ', X_train1.shape)\n",
        "print('Test Size  : ', X_test1.shape)\n",
        "print('y_train Size  : ', y_train1.shape)\n",
        "print('y_test Size  : ', y_test1.shape)"
      ]
    },
    {
      "cell_type": "code",
      "execution_count": 13,
      "metadata": {},
      "outputs": [
        {
          "name": "stdout",
          "output_type": "stream",
          "text": [
            "Train Size :  (7992, 16)\n",
            "Test Size  :  (1998, 16)\n",
            "y_train Size  :  (7992,)\n",
            "y_test Size  :  (1998,)\n"
          ]
        }
      ],
      "source": [
        "# target Regresi\n",
        "# Split between X (features) and y (target)\n",
        "\n",
        "X2 = df_reg.drop('price', axis=1)\n",
        "y2 = df_reg['price']\n",
        "\n",
        "# Split untuk Train-Set and Test-Set\n",
        "\n",
        "X_train2, X_test2, y_train2, y_test2 = train_test_split(X2, y2, test_size=0.2, random_state=16)\n",
        "\n",
        "print('Train Size : ', X_train2.shape)\n",
        "print('Test Size  : ', X_test2.shape)\n",
        "print('y_train Size  : ', y_train2.shape)\n",
        "print('y_test Size  : ', y_test2.shape)"
      ]
    },
    {
      "cell_type": "code",
      "execution_count": 14,
      "metadata": {},
      "outputs": [
        {
          "data": {
            "text/html": [
              "<div>\n",
              "<style scoped>\n",
              "    .dataframe tbody tr th:only-of-type {\n",
              "        vertical-align: middle;\n",
              "    }\n",
              "\n",
              "    .dataframe tbody tr th {\n",
              "        vertical-align: top;\n",
              "    }\n",
              "\n",
              "    .dataframe thead th {\n",
              "        text-align: right;\n",
              "    }\n",
              "</style>\n",
              "<table border=\"1\" class=\"dataframe\">\n",
              "  <thead>\n",
              "    <tr style=\"text-align: right;\">\n",
              "      <th></th>\n",
              "      <th>squareMeters</th>\n",
              "      <th>numberOfRooms</th>\n",
              "      <th>hasYard</th>\n",
              "      <th>hasPool</th>\n",
              "      <th>floors</th>\n",
              "      <th>cityCode</th>\n",
              "      <th>cityPartRange</th>\n",
              "      <th>numPrevOwners</th>\n",
              "      <th>made</th>\n",
              "      <th>isNewBuilt</th>\n",
              "      <th>hasStormProtector</th>\n",
              "      <th>basement</th>\n",
              "      <th>attic</th>\n",
              "      <th>garage</th>\n",
              "      <th>hasStorageRoom</th>\n",
              "      <th>hasGuestRoom</th>\n",
              "      <th>price</th>\n",
              "      <th>category</th>\n",
              "    </tr>\n",
              "  </thead>\n",
              "  <tbody>\n",
              "    <tr>\n",
              "      <th>0</th>\n",
              "      <td>75523</td>\n",
              "      <td>3</td>\n",
              "      <td>0</td>\n",
              "      <td>1</td>\n",
              "      <td>63</td>\n",
              "      <td>9373</td>\n",
              "      <td>3</td>\n",
              "      <td>8</td>\n",
              "      <td>2005</td>\n",
              "      <td>0</td>\n",
              "      <td>1</td>\n",
              "      <td>4313</td>\n",
              "      <td>9005</td>\n",
              "      <td>956</td>\n",
              "      <td>0</td>\n",
              "      <td>7</td>\n",
              "      <td>7559081.5</td>\n",
              "      <td>Basic</td>\n",
              "    </tr>\n",
              "    <tr>\n",
              "      <th>1</th>\n",
              "      <td>80771</td>\n",
              "      <td>39</td>\n",
              "      <td>1</td>\n",
              "      <td>1</td>\n",
              "      <td>98</td>\n",
              "      <td>39381</td>\n",
              "      <td>8</td>\n",
              "      <td>6</td>\n",
              "      <td>2015</td>\n",
              "      <td>1</td>\n",
              "      <td>0</td>\n",
              "      <td>3653</td>\n",
              "      <td>2436</td>\n",
              "      <td>128</td>\n",
              "      <td>1</td>\n",
              "      <td>2</td>\n",
              "      <td>8085989.5</td>\n",
              "      <td>Luxury</td>\n",
              "    </tr>\n",
              "    <tr>\n",
              "      <th>2</th>\n",
              "      <td>55712</td>\n",
              "      <td>58</td>\n",
              "      <td>0</td>\n",
              "      <td>1</td>\n",
              "      <td>19</td>\n",
              "      <td>34457</td>\n",
              "      <td>6</td>\n",
              "      <td>8</td>\n",
              "      <td>2021</td>\n",
              "      <td>0</td>\n",
              "      <td>0</td>\n",
              "      <td>2937</td>\n",
              "      <td>8852</td>\n",
              "      <td>135</td>\n",
              "      <td>1</td>\n",
              "      <td>9</td>\n",
              "      <td>5574642.1</td>\n",
              "      <td>Basic</td>\n",
              "    </tr>\n",
              "    <tr>\n",
              "      <th>3</th>\n",
              "      <td>32316</td>\n",
              "      <td>47</td>\n",
              "      <td>0</td>\n",
              "      <td>0</td>\n",
              "      <td>6</td>\n",
              "      <td>27939</td>\n",
              "      <td>10</td>\n",
              "      <td>4</td>\n",
              "      <td>2012</td>\n",
              "      <td>0</td>\n",
              "      <td>1</td>\n",
              "      <td>659</td>\n",
              "      <td>7141</td>\n",
              "      <td>359</td>\n",
              "      <td>0</td>\n",
              "      <td>3</td>\n",
              "      <td>3232561.2</td>\n",
              "      <td>Basic</td>\n",
              "    </tr>\n",
              "    <tr>\n",
              "      <th>4</th>\n",
              "      <td>70429</td>\n",
              "      <td>19</td>\n",
              "      <td>1</td>\n",
              "      <td>1</td>\n",
              "      <td>90</td>\n",
              "      <td>38045</td>\n",
              "      <td>3</td>\n",
              "      <td>7</td>\n",
              "      <td>1990</td>\n",
              "      <td>1</td>\n",
              "      <td>0</td>\n",
              "      <td>8435</td>\n",
              "      <td>2429</td>\n",
              "      <td>292</td>\n",
              "      <td>1</td>\n",
              "      <td>4</td>\n",
              "      <td>7055052.0</td>\n",
              "      <td>Luxury</td>\n",
              "    </tr>\n",
              "  </tbody>\n",
              "</table>\n",
              "</div>"
            ],
            "text/plain": [
              "   squareMeters  numberOfRooms  hasYard  hasPool  floors  cityCode  \\\n",
              "0         75523              3        0        1      63      9373   \n",
              "1         80771             39        1        1      98     39381   \n",
              "2         55712             58        0        1      19     34457   \n",
              "3         32316             47        0        0       6     27939   \n",
              "4         70429             19        1        1      90     38045   \n",
              "\n",
              "   cityPartRange  numPrevOwners  made  isNewBuilt  hasStormProtector  \\\n",
              "0              3              8  2005           0                  1   \n",
              "1              8              6  2015           1                  0   \n",
              "2              6              8  2021           0                  0   \n",
              "3             10              4  2012           0                  1   \n",
              "4              3              7  1990           1                  0   \n",
              "\n",
              "   basement  attic  garage  hasStorageRoom  hasGuestRoom      price category  \n",
              "0      4313   9005     956               0             7  7559081.5    Basic  \n",
              "1      3653   2436     128               1             2  8085989.5   Luxury  \n",
              "2      2937   8852     135               1             9  5574642.1    Basic  \n",
              "3       659   7141     359               0             3  3232561.2    Basic  \n",
              "4      8435   2429     292               1             4  7055052.0   Luxury  "
            ]
          },
          "execution_count": 14,
          "metadata": {},
          "output_type": "execute_result"
        }
      ],
      "source": [
        "df_ori.head()"
      ]
    },
    {
      "cell_type": "code",
      "execution_count": 15,
      "metadata": {},
      "outputs": [],
      "source": [
        "# Mendapatkan Numerical Columns and Categorical Columns\n",
        "num_columns = ['squareMeters','numberOfRooms','floors','cityPartRange','numPrevOwners','basement','attic','garage','hasGuestRoom']\n",
        "cat_columns = ['hasYard','hasPool','isNewBuilt','hasStormProtector','hasStorageRoom']\n",
        "\n",
        "# Split Train-Set and Test-Set berdasrkan tipe kolom (Numerical/Categorical)\n",
        "# Target Classification\n",
        "X_train1_num = X_train1[num_columns]\n",
        "X_train1_cat = X_train1[cat_columns]\n",
        "\n",
        "X_test1_num = X_test1[num_columns]\n",
        "X_test1_cat = X_test1[cat_columns]\n",
        "\n",
        "# Target Regresion\n",
        "X_train2_num = X_train2[num_columns]\n",
        "X_train2_cat = X_train2[cat_columns]\n",
        "\n",
        "X_test2_num = X_test2[num_columns]\n",
        "X_test2_cat = X_test2[cat_columns]\n",
        "\n",
        "# Label Encode\n",
        "y_train1 = y_train1.replace({'Basic':0,'Luxury':1})\n",
        "y_test1 = y_test1.replace({'Basic':0,'Luxury':1})"
      ]
    },
    {
      "cell_type": "markdown",
      "metadata": {},
      "source": [
        "#### 5.3 Handling Missing value"
      ]
    },
    {
      "cell_type": "code",
      "execution_count": 16,
      "metadata": {},
      "outputs": [
        {
          "name": "stdout",
          "output_type": "stream",
          "text": [
            "0\n",
            "0\n",
            "0\n",
            "0\n",
            "total missing values =  0\n"
          ]
        }
      ],
      "source": [
        "# Cek Missing value target calssification\n",
        "print(X_train1.isnull().sum().sum())\n",
        "print(X_test1.isnull().sum().sum())\n",
        "print(y_train1.isnull().sum().sum())\n",
        "print(y_test1.isnull().sum().sum())\n",
        "print('total missing values = ', X_train1.isnull().sum().sum() + X_test1.isnull().sum().sum() + y_train1.isnull().sum().sum() + y_test1.isnull().sum().sum())"
      ]
    },
    {
      "cell_type": "code",
      "execution_count": 17,
      "metadata": {},
      "outputs": [
        {
          "name": "stdout",
          "output_type": "stream",
          "text": [
            "0\n",
            "0\n",
            "0\n",
            "0\n",
            "total missing values =  0\n"
          ]
        }
      ],
      "source": [
        "# Cek Missing value target regresi\n",
        "print(X_train2.isnull().sum().sum())\n",
        "print(X_test2.isnull().sum().sum())\n",
        "print(y_train2.isnull().sum().sum())\n",
        "print(y_test2.isnull().sum().sum())\n",
        "print('total missing values = ', X_train2.isnull().sum().sum() + X_test2.isnull().sum().sum() + y_train2.isnull().sum().sum() + y_test2.isnull().sum().sum())"
      ]
    },
    {
      "cell_type": "markdown",
      "metadata": {},
      "source": [
        "#### 5.4 Handling Outliers"
      ]
    },
    {
      "cell_type": "code",
      "execution_count": 18,
      "metadata": {},
      "outputs": [
        {
          "data": {
            "text/html": [
              "<div>\n",
              "<style scoped>\n",
              "    .dataframe tbody tr th:only-of-type {\n",
              "        vertical-align: middle;\n",
              "    }\n",
              "\n",
              "    .dataframe tbody tr th {\n",
              "        vertical-align: top;\n",
              "    }\n",
              "\n",
              "    .dataframe thead th {\n",
              "        text-align: right;\n",
              "    }\n",
              "</style>\n",
              "<table border=\"1\" class=\"dataframe\">\n",
              "  <thead>\n",
              "    <tr style=\"text-align: right;\">\n",
              "      <th></th>\n",
              "      <th>Kolom</th>\n",
              "      <th>Skewness_abs</th>\n",
              "      <th>normal</th>\n",
              "    </tr>\n",
              "  </thead>\n",
              "  <tbody>\n",
              "    <tr>\n",
              "      <th>0</th>\n",
              "      <td>squareMeters</td>\n",
              "      <td>0.014227</td>\n",
              "      <td>True</td>\n",
              "    </tr>\n",
              "    <tr>\n",
              "      <th>1</th>\n",
              "      <td>numberOfRooms</td>\n",
              "      <td>0.011049</td>\n",
              "      <td>True</td>\n",
              "    </tr>\n",
              "    <tr>\n",
              "      <th>2</th>\n",
              "      <td>floors</td>\n",
              "      <td>0.010637</td>\n",
              "      <td>True</td>\n",
              "    </tr>\n",
              "    <tr>\n",
              "      <th>3</th>\n",
              "      <td>cityPartRange</td>\n",
              "      <td>0.012577</td>\n",
              "      <td>True</td>\n",
              "    </tr>\n",
              "    <tr>\n",
              "      <th>4</th>\n",
              "      <td>numPrevOwners</td>\n",
              "      <td>0.005080</td>\n",
              "      <td>True</td>\n",
              "    </tr>\n",
              "    <tr>\n",
              "      <th>5</th>\n",
              "      <td>basement</td>\n",
              "      <td>0.031937</td>\n",
              "      <td>True</td>\n",
              "    </tr>\n",
              "    <tr>\n",
              "      <th>6</th>\n",
              "      <td>attic</td>\n",
              "      <td>0.023055</td>\n",
              "      <td>True</td>\n",
              "    </tr>\n",
              "    <tr>\n",
              "      <th>7</th>\n",
              "      <td>garage</td>\n",
              "      <td>0.024761</td>\n",
              "      <td>True</td>\n",
              "    </tr>\n",
              "    <tr>\n",
              "      <th>8</th>\n",
              "      <td>hasGuestRoom</td>\n",
              "      <td>0.013126</td>\n",
              "      <td>True</td>\n",
              "    </tr>\n",
              "  </tbody>\n",
              "</table>\n",
              "</div>"
            ],
            "text/plain": [
              "           Kolom  Skewness_abs  normal\n",
              "0   squareMeters      0.014227    True\n",
              "1  numberOfRooms      0.011049    True\n",
              "2         floors      0.010637    True\n",
              "3  cityPartRange      0.012577    True\n",
              "4  numPrevOwners      0.005080    True\n",
              "5       basement      0.031937    True\n",
              "6          attic      0.023055    True\n",
              "7         garage      0.024761    True\n",
              "8   hasGuestRoom      0.013126    True"
            ]
          },
          "execution_count": 18,
          "metadata": {},
          "output_type": "execute_result"
        }
      ],
      "source": [
        "# Target Classification\n",
        "#Cek Skewness\n",
        "skew1 = []\n",
        "for i in num_columns:\n",
        "    skew1.append(abs(X_train1[i].skew()))\n",
        "\n",
        "# Visualisasi ke data frame\n",
        "df_skew1 = pd.DataFrame({'Kolom':num_columns, 'Skewness_abs':skew1})\n",
        "df_skew1['normal'] = df_skew1.Skewness_abs.apply(lambda x: True if x<=0.5 else False)\n",
        "df_skew1"
      ]
    },
    {
      "cell_type": "markdown",
      "metadata": {},
      "source": [
        "- Exp :\n",
        "    > Setiap kolom memiliki persebaran data yang normal"
      ]
    },
    {
      "cell_type": "code",
      "execution_count": 19,
      "metadata": {},
      "outputs": [
        {
          "data": {
            "text/html": [
              "<div>\n",
              "<style scoped>\n",
              "    .dataframe tbody tr th:only-of-type {\n",
              "        vertical-align: middle;\n",
              "    }\n",
              "\n",
              "    .dataframe tbody tr th {\n",
              "        vertical-align: top;\n",
              "    }\n",
              "\n",
              "    .dataframe thead th {\n",
              "        text-align: right;\n",
              "    }\n",
              "</style>\n",
              "<table border=\"1\" class=\"dataframe\">\n",
              "  <thead>\n",
              "    <tr style=\"text-align: right;\">\n",
              "      <th></th>\n",
              "      <th>Kolom</th>\n",
              "      <th>persentasi_outlier</th>\n",
              "    </tr>\n",
              "  </thead>\n",
              "  <tbody>\n",
              "    <tr>\n",
              "      <th>0</th>\n",
              "      <td>squareMeters</td>\n",
              "      <td>0.0</td>\n",
              "    </tr>\n",
              "    <tr>\n",
              "      <th>1</th>\n",
              "      <td>numberOfRooms</td>\n",
              "      <td>0.0</td>\n",
              "    </tr>\n",
              "    <tr>\n",
              "      <th>2</th>\n",
              "      <td>floors</td>\n",
              "      <td>0.0</td>\n",
              "    </tr>\n",
              "    <tr>\n",
              "      <th>3</th>\n",
              "      <td>cityPartRange</td>\n",
              "      <td>0.0</td>\n",
              "    </tr>\n",
              "    <tr>\n",
              "      <th>4</th>\n",
              "      <td>numPrevOwners</td>\n",
              "      <td>0.0</td>\n",
              "    </tr>\n",
              "    <tr>\n",
              "      <th>5</th>\n",
              "      <td>basement</td>\n",
              "      <td>0.0</td>\n",
              "    </tr>\n",
              "    <tr>\n",
              "      <th>6</th>\n",
              "      <td>attic</td>\n",
              "      <td>0.0</td>\n",
              "    </tr>\n",
              "    <tr>\n",
              "      <th>7</th>\n",
              "      <td>garage</td>\n",
              "      <td>0.0</td>\n",
              "    </tr>\n",
              "    <tr>\n",
              "      <th>8</th>\n",
              "      <td>hasGuestRoom</td>\n",
              "      <td>0.0</td>\n",
              "    </tr>\n",
              "  </tbody>\n",
              "</table>\n",
              "</div>"
            ],
            "text/plain": [
              "           Kolom  persentasi_outlier\n",
              "0   squareMeters                 0.0\n",
              "1  numberOfRooms                 0.0\n",
              "2         floors                 0.0\n",
              "3  cityPartRange                 0.0\n",
              "4  numPrevOwners                 0.0\n",
              "5       basement                 0.0\n",
              "6          attic                 0.0\n",
              "7         garage                 0.0\n",
              "8   hasGuestRoom                 0.0"
            ]
          },
          "execution_count": 19,
          "metadata": {},
          "output_type": "execute_result"
        }
      ],
      "source": [
        "# Cek Persentasi untuk kolom yg terdistribusi normal\n",
        "percent_outliers1 = []\n",
        "for i in num_columns:\n",
        "    std = X_train1[i].std()\n",
        "    upper = X_train1[i].mean() + 3*std\n",
        "    lower = X_train1[i].mean() - 3*std\n",
        "    percent = len(X_train1[(X_train1[i]>upper)|(X_train1[i]<lower)])*100/len(X_train1)\n",
        "    percent_outliers1.append(percent)\n",
        "\n",
        "# Visualisasi ke Data Frame\n",
        "pd.DataFrame({'Kolom':num_columns, 'persentasi_outlier':percent_outliers1})"
      ]
    },
    {
      "cell_type": "markdown",
      "metadata": {},
      "source": [
        "- Exp :\n",
        "    > tidak ada outlier di setiap kolom"
      ]
    },
    {
      "cell_type": "markdown",
      "metadata": {},
      "source": [
        "#### 5.5 Features Selection"
      ]
    },
    {
      "cell_type": "code",
      "execution_count": 20,
      "metadata": {},
      "outputs": [
        {
          "data": {
            "text/plain": [
              "Text(0.5, 1.0, 'Korelasi pada kolom Kategori')"
            ]
          },
          "execution_count": 20,
          "metadata": {},
          "output_type": "execute_result"
        },
        {
          "data": {
            "image/png": "[encoded data removed]",
            "text/plain": [
              "<Figure size 1080x360 with 2 Axes>"
            ]
          },
          "metadata": {
            "needs_background": "light"
          },
          "output_type": "display_data"
        }
      ],
      "source": [
        "# Cek kolerasi pada kolom categorikal pada target Category\n",
        "df_corr_cat = pd.concat([X_train1_cat, y_train1], axis=1)\n",
        "\n",
        "plt.figure(figsize=(15, 5))\n",
        "sns.heatmap(df_corr_cat.corr(), annot = True, vmin=0, vmax=1)\n",
        "plt.title('Korelasi pada kolom Kategori')"
      ]
    },
    {
      "cell_type": "code",
      "execution_count": 21,
      "metadata": {},
      "outputs": [
        {
          "data": {
            "text/plain": [
              "Text(0.5, 1.0, 'Korelasi pada kolom Numerik Category')"
            ]
          },
          "execution_count": 21,
          "metadata": {},
          "output_type": "execute_result"
        },
        {
          "data": {
            "image/png": "[encoded data removed]",
            "text/plain": [
              "<Figure size 1080x360 with 2 Axes>"
            ]
          },
          "metadata": {
            "needs_background": "light"
          },
          "output_type": "display_data"
        }
      ],
      "source": [
        "# Cek kolerasi pada kolom Numerik Category\n",
        "df_corr_num = pd.concat([X_train1_num, y_train1], axis=1)\n",
        "\n",
        "plt.figure(figsize=(15, 5))\n",
        "sns.heatmap(df_corr_num.corr(), annot = True, vmin=0, vmax=1)\n",
        "plt.title('Korelasi pada kolom Numerik Category')"
      ]
    },
    {
      "cell_type": "code",
      "execution_count": 22,
      "metadata": {},
      "outputs": [
        {
          "data": {
            "text/plain": [
              "Text(0.5, 1.0, 'Korelasi pada kolom Kategori Price')"
            ]
          },
          "execution_count": 22,
          "metadata": {},
          "output_type": "execute_result"
        },
        {
          "data": {
            "image/png": "[encoded data removed]",
            "text/plain": [
              "<Figure size 1080x360 with 2 Axes>"
            ]
          },
          "metadata": {
            "needs_background": "light"
          },
          "output_type": "display_data"
        }
      ],
      "source": [
        "# Cek kolerasi pada kolom categorikal pada target Price\n",
        "df_corr_cat2 = pd.concat([X_train2_cat, y_train2], axis=1)\n",
        "\n",
        "plt.figure(figsize=(15, 5))\n",
        "sns.heatmap(df_corr_cat2.corr(), annot = True, vmin=0, vmax=1)\n",
        "plt.title('Korelasi pada kolom Kategori Price')"
      ]
    },
    {
      "cell_type": "code",
      "execution_count": 23,
      "metadata": {},
      "outputs": [
        {
          "data": {
            "text/plain": [
              "Text(0.5, 1.0, 'Korelasi pada kolom Numerik Price')"
            ]
          },
          "execution_count": 23,
          "metadata": {},
          "output_type": "execute_result"
        },
        {
          "data": {
            "image/png": "[encoded data removed]",
            "text/plain": [
              "<Figure size 1080x360 with 2 Axes>"
            ]
          },
          "metadata": {
            "needs_background": "light"
          },
          "output_type": "display_data"
        }
      ],
      "source": [
        "# Cek kolerasi pada kolom Numerik pada target Price\n",
        "df_corr_num2 = pd.concat([X_train2_num, y_train2], axis=1)\n",
        "\n",
        "plt.figure(figsize=(15, 5))\n",
        "sns.heatmap(df_corr_num2.corr(), annot = True, vmin=0, vmax=1)\n",
        "plt.title('Korelasi pada kolom Numerik Price')"
      ]
    },
    {
      "cell_type": "markdown",
      "metadata": {},
      "source": [
        "#### 5.6 Scaling"
      ]
    },
    {
      "cell_type": "code",
      "execution_count": 24,
      "metadata": {},
      "outputs": [],
      "source": [
        "# Menggabungkan data Numerikal dan kategorikal pada X_train dan X_test\n",
        "X_train1_final = X_train1_num.join(X_train1_cat)\n",
        "X_test1_final = X_test1_num.join(X_test1_cat)\n",
        "\n",
        "X_train2_final = X_train2_num.join(X_train2_cat)\n",
        "X_test2_final = X_test2_num.join(X_test2_cat)"
      ]
    },
    {
      "cell_type": "code",
      "execution_count": 25,
      "metadata": {},
      "outputs": [],
      "source": [
        "# Scaling data numerik\n",
        "scaler1 = StandardScaler()\n",
        "scaler1.fit(X_train1_final)\n",
        "X_train1_scaled = scaler1.transform(X_train1_final)\n",
        "X_test1_scaled = scaler1.transform(X_test1_final)\n",
        "\n",
        "scaler2 = MinMaxScaler()\n",
        "scaler2.fit(X_train2_final)\n",
        "X_train2_scaled = scaler2.transform(X_train2_final)\n",
        "X_test2_scaled = scaler2.transform(X_test2_final)"
      ]
    },
    {
      "cell_type": "markdown",
      "metadata": {
        "id": "y7rl0hdSqBw4"
      },
      "source": [
        "# 6. Model Definition"
      ]
    },
    {
      "cell_type": "markdown",
      "metadata": {
        "id": "3F7biYnGqHJ1"
      },
      "source": [
        "> Bagian ini berisi cell untuk mendefinisikan model. Jelaskan alasan menggunakan suatu algoritma/model, hyperparameter yang dipakai, jenis penggunaan metrics yang dipakai, dan hal lain yang terkait dengan model."
      ]
    },
    {
      "cell_type": "markdown",
      "metadata": {},
      "source": [
        "#### 6.1 Model definition classification"
      ]
    },
    {
      "cell_type": "code",
      "execution_count": 26,
      "metadata": {
        "id": "bdZrBc6VqEwZ"
      },
      "outputs": [
        {
          "data": {
            "text/plain": [
              "KNeighborsClassifier()"
            ]
          },
          "execution_count": 26,
          "metadata": {},
          "output_type": "execute_result"
        }
      ],
      "source": [
        "# Model Logistic Regresion\n",
        "# Inisiasi Model Logistic Regresion\n",
        "model_logreg = LogisticRegression()\n",
        "model_logreg.fit(X_train1_final,y_train1)\n",
        "\n",
        "# Model SVC\n",
        "# Inisiasi Model SVC\n",
        "model_svc = SVC()\n",
        "model_svc.fit(X_train1_final,y_train1)\n",
        "\n",
        "# Model Random Forest\n",
        "# Inisiasi Model Random Forest\n",
        "model_rf = RandomForestClassifier()\n",
        "model_rf.fit(X_train1_final,y_train1)\n",
        "\n",
        "# Model Decision Tree\n",
        "# Inisiasi Model Decision Tree\n",
        "model_dt = DecisionTreeClassifier()\n",
        "model_dt.fit(X_train1_final,y_train1)\n",
        "\n",
        "# Model KNN\n",
        "# Inisiasi Model KNN\n",
        "model_knn = KNeighborsClassifier()\n",
        "model_knn.fit(X_train1_final,y_train1)\n"
      ]
    },
    {
      "cell_type": "markdown",
      "metadata": {},
      "source": [
        "#### 6.2 Model Definition Regresion"
      ]
    },
    {
      "cell_type": "code",
      "execution_count": 27,
      "metadata": {},
      "outputs": [
        {
          "data": {
            "text/plain": [
              "KNeighborsRegressor()"
            ]
          },
          "execution_count": 27,
          "metadata": {},
          "output_type": "execute_result"
        }
      ],
      "source": [
        "# Model Logistic Regresion\n",
        "# Inisiasi Model Logistic Regresion\n",
        "model_lingreg = LinearRegression()\n",
        "model_lingreg.fit(X_train2_final,y_train2)\n",
        "\n",
        "# Model SVC\n",
        "# Inisiasi Model SVC\n",
        "model_svr = SVR()\n",
        "model_svr.fit(X_train2_final,y_train2)\n",
        "\n",
        "# Model Random Forest\n",
        "# Inisiasi Model Random Forest\n",
        "model_rr = RandomForestRegressor()\n",
        "model_rr.fit(X_train2_final,y_train2)\n",
        "\n",
        "# Model Decision Tree\n",
        "# Inisiasi Model Decision Tree\n",
        "model_dtr = DecisionTreeRegressor()\n",
        "model_dtr.fit(X_train2_final,y_train2)\n",
        "\n",
        "# Model KNN\n",
        "# Inisiasi Model KNN\n",
        "model_knnr = KNeighborsRegressor()\n",
        "model_knnr.fit(X_train2_final,y_train2)"
      ]
    },
    {
      "cell_type": "markdown",
      "metadata": {
        "id": "xRITFZaPqRKs"
      },
      "source": [
        "# 7. Model Training"
      ]
    },
    {
      "cell_type": "markdown",
      "metadata": {
        "id": "94Uz_7NdqV3J"
      },
      "source": [
        "> Cell pada bagian ini hanya berisi code untuk melatih model dan output yang dihasilkan. Lakukan beberapa kali proses training dengan hyperparameter yang berbeda untuk melihat hasil yang didapatkan. Analisis dan narasikan hasil ini pada bagian Model Evaluation."
      ]
    },
    {
      "cell_type": "markdown",
      "metadata": {},
      "source": [
        "#### 7.1 Model Training Classification"
      ]
    },
    {
      "cell_type": "code",
      "execution_count": 28,
      "metadata": {
        "id": "lhJ3OKIGqS9B"
      },
      "outputs": [],
      "source": [
        "#Logistic Regresion\n",
        "# Melakukan Train Model terhadap Data Train\n",
        "y_pred_Trainlog = model_logreg.predict(X_train1_final)\n",
        "# Melakukan Traing Model terhadap Data Test\n",
        "y_pred_Testlog = model_logreg.predict(X_test1_final)\n",
        "\n",
        "# Model SVC\n",
        "# Melakukan Train Model terhadap Data Train\n",
        "y_pred_TrainSVC = model_svc.predict(X_train1_final)\n",
        "# Melakukan Traing Model terhadap Data Test\n",
        "y_pred_TestSVC = model_svc.predict(X_test1_final)\n",
        "\n",
        "# Random Forest\n",
        "# Melakukan Train Model terhadap Data Train\n",
        "y_pred_TrainRF = model_rf.predict(X_train1_final)\n",
        "# Melakukan Traing Model terhadap Data Test\n",
        "y_pred_TestRF = model_rf.predict(X_test1_final)\n",
        "\n",
        "# Decision Tree\n",
        "# Melakukan Train Model terhadap Data Train\n",
        "y_pred_TrainDT = model_dt.predict(X_train1_final)\n",
        "# Melakukan Traing Model terhadap Data Test\n",
        "y_pred_TestDT = model_dt.predict(X_test1_final)\n",
        "\n",
        "# KNN\n",
        "# Melakukan Train Model terhadap Data Train\n",
        "y_pred_TrainKNN = model_knn.predict(X_train1_final)\n",
        "# Melakukan Traing Model terhadap Data Test\n",
        "y_pred_TestKNN = model_knn.predict(X_test1_final)"
      ]
    },
    {
      "cell_type": "markdown",
      "metadata": {},
      "source": [
        "#### 7.1 Model Training Regresion"
      ]
    },
    {
      "cell_type": "code",
      "execution_count": 29,
      "metadata": {},
      "outputs": [],
      "source": [
        "#Linier Regresion\n",
        "# Melakukan Train Model terhadap Data Train\n",
        "y_pred_Trainlinreg = model_lingreg.predict(X_train2_final)\n",
        "# Melakukan Traing Model terhadap Data Test\n",
        "y_pred_Testlinreg = model_lingreg.predict(X_test2_final)\n",
        "\n",
        "# Model SVC\n",
        "# Melakukan Train Model terhadap Data Train\n",
        "y_pred_TrainSVR = model_svr.predict(X_train2_final)\n",
        "# Melakukan Traing Model terhadap Data Test\n",
        "y_pred_TestSVR = model_svr.predict(X_test2_final)\n",
        "\n",
        "# Random Forest\n",
        "# Melakukan Train Model terhadap Data Train\n",
        "y_pred_TrainRR = model_rr.predict(X_train2_final)\n",
        "# Melakukan Traing Model terhadap Data Test\n",
        "y_pred_TestRR = model_rr.predict(X_test2_final)\n",
        "\n",
        "# Decision Tree\n",
        "# Melakukan Train Model terhadap Data Train\n",
        "y_pred_TrainDTR = model_dtr.predict(X_train2_final)\n",
        "# Melakukan Traing Model terhadap Data Test\n",
        "y_pred_TestDTR = model_dtr.predict(X_test2_final)\n",
        "\n",
        "# KNN\n",
        "# Melakukan Train Model terhadap Data Train\n",
        "y_pred_TrainKNNR = model_knnr.predict(X_train2_final)\n",
        "# Melakukan Traing Model terhadap Data Test\n",
        "y_pred_TestKNNR = model_knnr.predict(X_test2_final)"
      ]
    },
    {
      "cell_type": "markdown",
      "metadata": {},
      "source": [
        "#### 7.3 Cross Validation"
      ]
    },
    {
      "cell_type": "code",
      "execution_count": 30,
      "metadata": {},
      "outputs": [
        {
          "name": "stdout",
          "output_type": "stream",
          "text": [
            "Accuracy - All - Cross Validation  :  [0.87124625 0.87124625 0.87124625]\n",
            "Accuracy - Mean - Cross Validation :  0.8712462462462462\n",
            "Accuracy - Std - Cross Validation  :  0.0\n",
            "Accuracy - Range of Test-Set       :  0.8712462462462462 - 0.8712462462462462\n"
          ]
        }
      ],
      "source": [
        "# Cross Validation Model Logistic Regresion\n",
        "train_crossval_logreg = cross_val_score(model_logreg, \n",
        "                                      X_train1_final, \n",
        "                                      y_train1, \n",
        "                                      cv=3, scoring=\"accuracy\")\n",
        "\n",
        "print('Accuracy - All - Cross Validation  : ', train_crossval_logreg)\n",
        "print('Accuracy - Mean - Cross Validation : ', train_crossval_logreg.mean())\n",
        "print('Accuracy - Std - Cross Validation  : ', train_crossval_logreg.std())\n",
        "print('Accuracy - Range of Test-Set       : ', (train_crossval_logreg.mean()-train_crossval_logreg.std()) , '-', (train_crossval_logreg.mean()+train_crossval_logreg.std()))"
      ]
    },
    {
      "cell_type": "code",
      "execution_count": 31,
      "metadata": {},
      "outputs": [
        {
          "name": "stdout",
          "output_type": "stream",
          "text": [
            "Accuracy - All - Cross Validation  :  [0.87124625 0.87124625 0.87124625]\n",
            "Accuracy - Mean - Cross Validation :  0.8712462462462462\n",
            "Accuracy - Std - Cross Validation  :  0.0\n",
            "Accuracy - Range of Test-Set       :  0.8712462462462462 - 0.8712462462462462\n"
          ]
        }
      ],
      "source": [
        "# Cross Validation Model SVC\n",
        "train_crossval_svc = cross_val_score(model_svc, \n",
        "                                      X_train1_final, \n",
        "                                      y_train1, \n",
        "                                      cv=3, scoring=\"accuracy\")\n",
        "\n",
        "print('Accuracy - All - Cross Validation  : ', train_crossval_svc)\n",
        "print('Accuracy - Mean - Cross Validation : ', train_crossval_svc.mean())\n",
        "print('Accuracy - Std - Cross Validation  : ', train_crossval_svc.std())\n",
        "print('Accuracy - Range of Test-Set       : ', (train_crossval_svc.mean()-train_crossval_svc.std()) , '-', (train_crossval_svc.mean()+train_crossval_svc.std()))"
      ]
    },
    {
      "cell_type": "code",
      "execution_count": 32,
      "metadata": {},
      "outputs": [
        {
          "name": "stdout",
          "output_type": "stream",
          "text": [
            "Accuracy - All - Cross Validation  :  [1. 1. 1.]\n",
            "Accuracy - Mean - Cross Validation :  1.0\n",
            "Accuracy - Std - Cross Validation  :  0.0\n",
            "Accuracy - Range of Test-Set       :  1.0 - 1.0\n"
          ]
        }
      ],
      "source": [
        "# Cross Validation Model Random Forest\n",
        "train_crossval_rf = cross_val_score(model_rf, \n",
        "                                      X_train1_final, \n",
        "                                      y_train1, \n",
        "                                      cv=3, scoring=\"accuracy\")\n",
        "\n",
        "print('Accuracy - All - Cross Validation  : ', train_crossval_rf)\n",
        "print('Accuracy - Mean - Cross Validation : ', train_crossval_rf.mean())\n",
        "print('Accuracy - Std - Cross Validation  : ', train_crossval_rf.std())\n",
        "print('Accuracy - Range of Test-Set       : ', (train_crossval_rf.mean()-train_crossval_rf.std()) , '-', (train_crossval_rf.mean()+train_crossval_rf.std()))"
      ]
    },
    {
      "cell_type": "code",
      "execution_count": 33,
      "metadata": {},
      "outputs": [
        {
          "name": "stdout",
          "output_type": "stream",
          "text": [
            "Accuracy - All - Cross Validation  :  [1. 1. 1.]\n",
            "Accuracy - Mean - Cross Validation :  1.0\n",
            "Accuracy - Std - Cross Validation  :  0.0\n",
            "Accuracy - Range of Test-Set       :  1.0 - 1.0\n"
          ]
        }
      ],
      "source": [
        "# Cross Validation Model Decision Tree\n",
        "train_crossval_dt = cross_val_score(model_dt, \n",
        "                                      X_train1_final, \n",
        "                                      y_train1, \n",
        "                                      cv=3, scoring=\"accuracy\")\n",
        "\n",
        "print('Accuracy - All - Cross Validation  : ', train_crossval_dt)\n",
        "print('Accuracy - Mean - Cross Validation : ', train_crossval_dt.mean())\n",
        "print('Accuracy - Std - Cross Validation  : ', train_crossval_dt.std())\n",
        "print('Accuracy - Range of Test-Set       : ', (train_crossval_dt.mean()-train_crossval_dt.std()) , '-', (train_crossval_dt.mean()+train_crossval_dt.std()))"
      ]
    },
    {
      "cell_type": "code",
      "execution_count": 34,
      "metadata": {},
      "outputs": [
        {
          "name": "stdout",
          "output_type": "stream",
          "text": [
            "Accuracy - All - Cross Validation  :  [0.85810811 0.86298799 0.86073574]\n",
            "Accuracy - Mean - Cross Validation :  0.8606106106106107\n",
            "Accuracy - Std - Cross Validation  :  0.0019941663476613306\n",
            "Accuracy - Range of Test-Set       :  0.8586164442629494 - 0.8626047769582721\n"
          ]
        }
      ],
      "source": [
        "# Cross Validation Model KNN\n",
        "train_crossval_knn = cross_val_score(model_knn, \n",
        "                                      X_train1_final, \n",
        "                                      y_train1, \n",
        "                                      cv=3, scoring=\"accuracy\")\n",
        "\n",
        "print('Accuracy - All - Cross Validation  : ', train_crossval_knn)\n",
        "print('Accuracy - Mean - Cross Validation : ', train_crossval_knn.mean())\n",
        "print('Accuracy - Std - Cross Validation  : ', train_crossval_knn.std())\n",
        "print('Accuracy - Range of Test-Set       : ', (train_crossval_knn.mean()-train_crossval_knn.std()) , '-', (train_crossval_knn.mean()+train_crossval_knn.std()))"
      ]
    },
    {
      "cell_type": "markdown",
      "metadata": {
        "id": "clJG2mOSqX6Q"
      },
      "source": [
        "# 8. Model Evaluation"
      ]
    },
    {
      "cell_type": "markdown",
      "metadata": {
        "id": "UEhgiE1eqcB5"
      },
      "source": [
        "> Pada bagian ini, dilakukan evaluasi model yang harus menunjukkan bagaimana performa model berdasarkan metrics yang dipilih. Hal ini harus dibuktikan dengan visualisasi tren performa dan/atau tingkat kesalahan model. **Lakukan analisis terkait dengan hasil pada model dan tuliskan hasil analisisnya**."
      ]
    },
    {
      "cell_type": "markdown",
      "metadata": {},
      "source": [
        "#### 8.1 Model Evaluation Classification"
      ]
    },
    {
      "cell_type": "code",
      "execution_count": 35,
      "metadata": {
        "id": "NtIIeLSGqbaB"
      },
      "outputs": [
        {
          "name": "stdout",
          "output_type": "stream",
          "text": [
            "Accuracy - Train Set  :  0.8828828828828829 \n",
            "\n",
            "Classification Report : \n",
            "               precision    recall  f1-score   support\n",
            "\n",
            "           0       0.88      1.00      0.94      1764\n",
            "           1       0.00      0.00      0.00       234\n",
            "\n",
            "    accuracy                           0.88      1998\n",
            "   macro avg       0.44      0.50      0.47      1998\n",
            "weighted avg       0.78      0.88      0.83      1998\n",
            " \n",
            "\n"
          ]
        }
      ],
      "source": [
        "# Check Performance Model against Test-Set Logistic Regresion\n",
        "\n",
        "print('Accuracy - Train Set  : ', accuracy_score(y_test1, y_pred_Testlog), '\\n')\n",
        "print('Classification Report : \\n', classification_report(y_test1, y_pred_Testlog), '\\n')"
      ]
    },
    {
      "cell_type": "code",
      "execution_count": 36,
      "metadata": {},
      "outputs": [
        {
          "name": "stdout",
          "output_type": "stream",
          "text": [
            "Accuracy - Train Set  :  0.8828828828828829 \n",
            "\n",
            "Classification Report : \n",
            "               precision    recall  f1-score   support\n",
            "\n",
            "           0       0.88      1.00      0.94      1764\n",
            "           1       0.00      0.00      0.00       234\n",
            "\n",
            "    accuracy                           0.88      1998\n",
            "   macro avg       0.44      0.50      0.47      1998\n",
            "weighted avg       0.78      0.88      0.83      1998\n",
            " \n",
            "\n"
          ]
        }
      ],
      "source": [
        "# Check Performance Model against Train-Set SVC\n",
        "\n",
        "print('Accuracy - Train Set  : ', accuracy_score(y_test1, y_pred_TestSVC), '\\n')\n",
        "print('Classification Report : \\n', classification_report(y_test1, y_pred_TestSVC), '\\n')"
      ]
    },
    {
      "cell_type": "code",
      "execution_count": 37,
      "metadata": {},
      "outputs": [
        {
          "name": "stdout",
          "output_type": "stream",
          "text": [
            "Accuracy - Train Set  :  1.0 \n",
            "\n",
            "Classification Report : \n",
            "               precision    recall  f1-score   support\n",
            "\n",
            "           0       1.00      1.00      1.00      1764\n",
            "           1       1.00      1.00      1.00       234\n",
            "\n",
            "    accuracy                           1.00      1998\n",
            "   macro avg       1.00      1.00      1.00      1998\n",
            "weighted avg       1.00      1.00      1.00      1998\n",
            " \n",
            "\n"
          ]
        }
      ],
      "source": [
        "# Check Performance Model against Train-Set Random Forest\n",
        "\n",
        "print('Accuracy - Train Set  : ', accuracy_score(y_test1, y_pred_TestRF), '\\n')\n",
        "print('Classification Report : \\n', classification_report(y_test1, y_pred_TestRF), '\\n')"
      ]
    },
    {
      "cell_type": "code",
      "execution_count": 38,
      "metadata": {},
      "outputs": [
        {
          "name": "stdout",
          "output_type": "stream",
          "text": [
            "Accuracy - Train Set  :  1.0 \n",
            "\n",
            "Classification Report : \n",
            "               precision    recall  f1-score   support\n",
            "\n",
            "           0       1.00      1.00      1.00      1764\n",
            "           1       1.00      1.00      1.00       234\n",
            "\n",
            "    accuracy                           1.00      1998\n",
            "   macro avg       1.00      1.00      1.00      1998\n",
            "weighted avg       1.00      1.00      1.00      1998\n",
            " \n",
            "\n"
          ]
        }
      ],
      "source": [
        "# Check Performance Model against Train-Set Decision Tree\n",
        "\n",
        "print('Accuracy - Train Set  : ', accuracy_score(y_test1, y_pred_TestDT), '\\n')\n",
        "print('Classification Report : \\n', classification_report(y_test1, y_pred_TestDT), '\\n')"
      ]
    },
    {
      "cell_type": "code",
      "execution_count": 39,
      "metadata": {},
      "outputs": [
        {
          "name": "stdout",
          "output_type": "stream",
          "text": [
            "Accuracy - Train Set  :  0.8693693693693694 \n",
            "\n",
            "Classification Report : \n",
            "               precision    recall  f1-score   support\n",
            "\n",
            "           0       0.88      0.98      0.93      1764\n",
            "           1       0.15      0.03      0.04       234\n",
            "\n",
            "    accuracy                           0.87      1998\n",
            "   macro avg       0.52      0.50      0.49      1998\n",
            "weighted avg       0.80      0.87      0.83      1998\n",
            " \n",
            "\n"
          ]
        }
      ],
      "source": [
        "# Check Performance Model against Train-Set KNN\n",
        "\n",
        "print('Accuracy - Train Set  : ', accuracy_score(y_test1, y_pred_TestKNN), '\\n')\n",
        "print('Classification Report : \\n', classification_report(y_test1, y_pred_TestKNN), '\\n')"
      ]
    },
    {
      "cell_type": "markdown",
      "metadata": {},
      "source": [
        "#### 8.2 Model Evaluation Regresion"
      ]
    },
    {
      "cell_type": "code",
      "execution_count": 40,
      "metadata": {},
      "outputs": [
        {
          "name": "stdout",
          "output_type": "stream",
          "text": [
            "***********Model Evaluation Train********************\n",
            "R^2 Score : 0.9999995619864758\n",
            "Mean Squared Error : 3600590.4787453525\n",
            "RMSE : 1897.5221945330054\n",
            "MAE : 1478.0776699967087\n",
            "MAPE : 0.001000042755577673\n",
            "***********Model Evaluation Test********************\n",
            "R^2 Score : 0.9999995777727422\n",
            "Mean Squared Error : 3600083.394757108\n",
            "RMSE : 1897.3885724218717\n",
            "MAE : 1478.0886704268064\n",
            "MAPE : 0.0010296255473881137\n"
          ]
        }
      ],
      "source": [
        "print('***********Model Evaluation Train********************')\n",
        "print('R^2 Score :', r2_score(y_train2,y_pred_Trainlinreg))\n",
        "print('Mean Squared Error :', mean_squared_error(y_train2,y_pred_Trainlinreg))\n",
        "print('RMSE :',mean_squared_error(y_train2,y_pred_Trainlinreg,squared=False))\n",
        "print('MAE :', mean_absolute_error(y_train2,y_pred_Trainlinreg))\n",
        "print('MAPE :',mean_absolute_percentage_error(y_train2,y_pred_Trainlinreg))\n",
        "print('***********Model Evaluation Test********************')\n",
        "print('R^2 Score :', r2_score(y_test2,y_pred_Testlinreg))\n",
        "print('Mean Squared Error :', mean_squared_error(y_test2,y_pred_Testlinreg))\n",
        "print('RMSE :',mean_squared_error(y_test2,y_pred_Testlinreg,squared=False))\n",
        "print('MAE :', mean_absolute_error(y_test2,y_pred_Testlinreg))\n",
        "print('MAPE :',mean_absolute_percentage_error(y_test2,y_pred_Testlinreg))"
      ]
    },
    {
      "cell_type": "code",
      "execution_count": 41,
      "metadata": {},
      "outputs": [
        {
          "name": "stdout",
          "output_type": "stream",
          "text": [
            "***********Model Evaluation Train********************\n",
            "R^2 Score : 0.0010212727834465474\n",
            "Mean Squared Error : 8211877247897.555\n",
            "RMSE : 2865637.31967211\n",
            "MAE : 2473934.8231955273\n",
            "MAPE : 2.960788341169778\n",
            "***********Model Evaluation Test********************\n",
            "R^2 Score : 0.0007448382098214079\n",
            "Mean Squared Error : 8520060816655.939\n",
            "RMSE : 2918914.321568199\n",
            "MAE : 2530241.2969851717\n",
            "MAPE : 2.7999036399871993\n"
          ]
        }
      ],
      "source": [
        "print('***********Model Evaluation Train********************')\n",
        "print('R^2 Score :', r2_score(y_train2,y_pred_TrainSVR))\n",
        "print('Mean Squared Error :', mean_squared_error(y_train2,y_pred_TrainSVR))\n",
        "print('RMSE :',mean_squared_error(y_train2,y_pred_TrainSVR,squared=False))\n",
        "print('MAE :', mean_absolute_error(y_train2,y_pred_TrainSVR))\n",
        "print('MAPE :',mean_absolute_percentage_error(y_train2,y_pred_TrainSVR))\n",
        "print('***********Model Evaluation Test********************')\n",
        "print('R^2 Score :', r2_score(y_test2,y_pred_TestSVR))\n",
        "print('Mean Squared Error :', mean_squared_error(y_test2,y_pred_TestSVR))\n",
        "print('RMSE :',mean_squared_error(y_test2,y_pred_TestSVR,squared=False))\n",
        "print('MAE :', mean_absolute_error(y_test2,y_pred_TestSVR))\n",
        "print('MAPE :',mean_absolute_percentage_error(y_test2,y_pred_TestSVR))"
      ]
    },
    {
      "cell_type": "code",
      "execution_count": 42,
      "metadata": {},
      "outputs": [
        {
          "name": "stdout",
          "output_type": "stream",
          "text": [
            "***********Model Evaluation Train********************\n",
            "R^2 Score : 0.9999997444885558\n",
            "Mean Squared Error : 2100373.6698892093\n",
            "RMSE : 1449.2665972446923\n",
            "MAE : 1151.439112591819\n",
            "MAPE : 0.0008231559951553318\n",
            "***********Model Evaluation Test********************\n",
            "R^2 Score : 0.9999982141559736\n",
            "Mean Squared Error : 15226841.247163516\n",
            "RMSE : 3902.1585369079403\n",
            "MAE : 3115.8828225724856\n",
            "MAPE : 0.0018972009402759003\n"
          ]
        }
      ],
      "source": [
        "print('***********Model Evaluation Train********************')\n",
        "print('R^2 Score :', r2_score(y_train2,y_pred_TrainRR))\n",
        "print('Mean Squared Error :', mean_squared_error(y_train2,y_pred_TrainRR))\n",
        "print('RMSE :',mean_squared_error(y_train2,y_pred_TrainRR,squared=False))\n",
        "print('MAE :', mean_absolute_error(y_train2,y_pred_TrainRR))\n",
        "print('MAPE :',mean_absolute_percentage_error(y_train2,y_pred_TrainRR))\n",
        "print('***********Model Evaluation Test********************')\n",
        "print('R^2 Score :', r2_score(y_test2,y_pred_TestRR))\n",
        "print('Mean Squared Error :', mean_squared_error(y_test2,y_pred_TestRR))\n",
        "print('RMSE :',mean_squared_error(y_test2,y_pred_TestRR,squared=False))\n",
        "print('MAE :', mean_absolute_error(y_test2,y_pred_TestRR))\n",
        "print('MAPE :',mean_absolute_percentage_error(y_test2,y_pred_TestRR))"
      ]
    },
    {
      "cell_type": "markdown",
      "metadata": {},
      "source": [
        "# 9. Model Improvement"
      ]
    },
    {
      "cell_type": "markdown",
      "metadata": {},
      "source": [
        "#### 9.1 Hyper Parameter Tunning for classification"
      ]
    },
    {
      "cell_type": "code",
      "execution_count": 43,
      "metadata": {},
      "outputs": [
        {
          "data": {
            "text/plain": [
              "{'n_estimators': [10, 1000, 10],\n",
              " 'max_features': ['auto', 'sqrt', 'log2'],\n",
              " 'criterion': ['entropy', 'gini']}"
            ]
          },
          "execution_count": 43,
          "metadata": {},
          "output_type": "execute_result"
        }
      ],
      "source": [
        "n_estimators = [10, 1000, 10]\n",
        "max_features = ['auto', 'sqrt', 'log2']\n",
        "param_grid = {'n_estimators': n_estimators,\n",
        "               'max_features':max_features,\n",
        "               'criterion':['entropy','gini']}\n",
        "param_grid"
      ]
    },
    {
      "cell_type": "code",
      "execution_count": 44,
      "metadata": {},
      "outputs": [
        {
          "name": "stdout",
          "output_type": "stream",
          "text": [
            "Fitting 2 folds for each of 18 candidates, totalling 36 fits\n"
          ]
        },
        {
          "data": {
            "text/plain": [
              "GridSearchCV(cv=2, estimator=RandomForestClassifier(), n_jobs=-1,\n",
              "             param_grid={'criterion': ['entropy', 'gini'],\n",
              "                         'max_features': ['auto', 'sqrt', 'log2'],\n",
              "                         'n_estimators': [10, 1000, 10]},\n",
              "             verbose=2)"
            ]
          },
          "execution_count": 44,
          "metadata": {},
          "output_type": "execute_result"
        }
      ],
      "source": [
        "rf_gridcv = GridSearchCV(estimator=RandomForestClassifier(),\n",
        "                         param_grid=param_grid,\n",
        "                         cv=2,\n",
        "                         n_jobs=-1,\n",
        "                         verbose=2)\n",
        "\n",
        "rf_gridcv.fit(X_train1_final, y_train1)"
      ]
    },
    {
      "cell_type": "markdown",
      "metadata": {},
      "source": [
        "#### 9.2 Grid Search CV"
      ]
    },
    {
      "cell_type": "code",
      "execution_count": 45,
      "metadata": {},
      "outputs": [
        {
          "data": {
            "text/plain": [
              "{'criterion': 'entropy', 'max_features': 'auto', 'n_estimators': 1000}"
            ]
          },
          "execution_count": 45,
          "metadata": {},
          "output_type": "execute_result"
        }
      ],
      "source": [
        "# Mendapatkan parameter terbaik\n",
        "rf_gridcv.best_params_"
      ]
    },
    {
      "cell_type": "code",
      "execution_count": 46,
      "metadata": {},
      "outputs": [],
      "source": [
        "# Mendapatkan estimator terbaik\n",
        "rf_gridcv_best = rf_gridcv.best_estimator_"
      ]
    },
    {
      "cell_type": "code",
      "execution_count": 47,
      "metadata": {},
      "outputs": [
        {
          "name": "stdout",
          "output_type": "stream",
          "text": [
            "Accuracy - Train Set  :  1.0 \n",
            "\n",
            "Classification Report : \n",
            "               precision    recall  f1-score   support\n",
            "\n",
            "           0       1.00      1.00      1.00      1764\n",
            "           1       1.00      1.00      1.00       234\n",
            "\n",
            "    accuracy                           1.00      1998\n",
            "   macro avg       1.00      1.00      1.00      1998\n",
            "weighted avg       1.00      1.00      1.00      1998\n",
            " \n",
            "\n"
          ]
        }
      ],
      "source": [
        "# Check Performance Model against Train-Set Random Forest\n",
        "\n",
        "y_pred_best = rf_gridcv_best.predict(X_test1_final)\n",
        "print('Accuracy - Train Set  : ', accuracy_score(y_test1, y_pred_best), '\\n')\n",
        "print('Classification Report : \\n', classification_report(y_test1, y_pred_best), '\\n')"
      ]
    },
    {
      "cell_type": "markdown",
      "metadata": {
        "id": "ToJ9uIL-qfUi"
      },
      "source": [
        "# 10. Model Inference"
      ]
    },
    {
      "cell_type": "markdown",
      "metadata": {
        "id": "qmuzwgc8qlCJ"
      },
      "source": [
        "> Model yang sudah dilatih akan dicoba pada data yang bukan termasuk ke dalam train-set ataupun test-set. Data ini harus dalam format yang asli, bukan data yang sudah di-scaled."
      ]
    },
    {
      "cell_type": "code",
      "execution_count": 48,
      "metadata": {
        "id": "eUm47Gc4qkkv"
      },
      "outputs": [
        {
          "data": {
            "text/html": [
              "<div>\n",
              "<style scoped>\n",
              "    .dataframe tbody tr th:only-of-type {\n",
              "        vertical-align: middle;\n",
              "    }\n",
              "\n",
              "    .dataframe tbody tr th {\n",
              "        vertical-align: top;\n",
              "    }\n",
              "\n",
              "    .dataframe thead th {\n",
              "        text-align: right;\n",
              "    }\n",
              "</style>\n",
              "<table border=\"1\" class=\"dataframe\">\n",
              "  <thead>\n",
              "    <tr style=\"text-align: right;\">\n",
              "      <th></th>\n",
              "      <th>squareMeters</th>\n",
              "      <th>numberOfRooms</th>\n",
              "      <th>hasYard</th>\n",
              "      <th>hasPool</th>\n",
              "      <th>floors</th>\n",
              "      <th>cityCode</th>\n",
              "      <th>cityPartRange</th>\n",
              "      <th>numPrevOwners</th>\n",
              "      <th>made</th>\n",
              "      <th>isNewBuilt</th>\n",
              "      <th>hasStormProtector</th>\n",
              "      <th>basement</th>\n",
              "      <th>attic</th>\n",
              "      <th>garage</th>\n",
              "      <th>hasStorageRoom</th>\n",
              "      <th>hasGuestRoom</th>\n",
              "      <th>price</th>\n",
              "      <th>category</th>\n",
              "    </tr>\n",
              "  </thead>\n",
              "  <tbody>\n",
              "    <tr>\n",
              "      <th>0</th>\n",
              "      <td>26506</td>\n",
              "      <td>95</td>\n",
              "      <td>0</td>\n",
              "      <td>1</td>\n",
              "      <td>69</td>\n",
              "      <td>86093</td>\n",
              "      <td>4</td>\n",
              "      <td>3</td>\n",
              "      <td>2015</td>\n",
              "      <td>1</td>\n",
              "      <td>0</td>\n",
              "      <td>9373</td>\n",
              "      <td>6376</td>\n",
              "      <td>509</td>\n",
              "      <td>0</td>\n",
              "      <td>1</td>\n",
              "      <td>2660579.5</td>\n",
              "      <td>Basic</td>\n",
              "    </tr>\n",
              "    <tr>\n",
              "      <th>1</th>\n",
              "      <td>48403</td>\n",
              "      <td>62</td>\n",
              "      <td>0</td>\n",
              "      <td>0</td>\n",
              "      <td>3</td>\n",
              "      <td>52029</td>\n",
              "      <td>4</td>\n",
              "      <td>9</td>\n",
              "      <td>1996</td>\n",
              "      <td>1</td>\n",
              "      <td>0</td>\n",
              "      <td>5786</td>\n",
              "      <td>9954</td>\n",
              "      <td>941</td>\n",
              "      <td>0</td>\n",
              "      <td>10</td>\n",
              "      <td>4841127.6</td>\n",
              "      <td>Basic</td>\n",
              "    </tr>\n",
              "    <tr>\n",
              "      <th>2</th>\n",
              "      <td>85429</td>\n",
              "      <td>60</td>\n",
              "      <td>1</td>\n",
              "      <td>1</td>\n",
              "      <td>57</td>\n",
              "      <td>75588</td>\n",
              "      <td>7</td>\n",
              "      <td>6</td>\n",
              "      <td>2016</td>\n",
              "      <td>1</td>\n",
              "      <td>1</td>\n",
              "      <td>1421</td>\n",
              "      <td>6473</td>\n",
              "      <td>405</td>\n",
              "      <td>0</td>\n",
              "      <td>8</td>\n",
              "      <td>8553293.6</td>\n",
              "      <td>Luxury</td>\n",
              "    </tr>\n",
              "    <tr>\n",
              "      <th>3</th>\n",
              "      <td>58394</td>\n",
              "      <td>19</td>\n",
              "      <td>1</td>\n",
              "      <td>0</td>\n",
              "      <td>56</td>\n",
              "      <td>19251</td>\n",
              "      <td>6</td>\n",
              "      <td>3</td>\n",
              "      <td>2001</td>\n",
              "      <td>0</td>\n",
              "      <td>0</td>\n",
              "      <td>3215</td>\n",
              "      <td>9841</td>\n",
              "      <td>239</td>\n",
              "      <td>0</td>\n",
              "      <td>8</td>\n",
              "      <td>5848843.1</td>\n",
              "      <td>Basic</td>\n",
              "    </tr>\n",
              "    <tr>\n",
              "      <th>4</th>\n",
              "      <td>10830</td>\n",
              "      <td>28</td>\n",
              "      <td>0</td>\n",
              "      <td>1</td>\n",
              "      <td>65</td>\n",
              "      <td>56534</td>\n",
              "      <td>5</td>\n",
              "      <td>8</td>\n",
              "      <td>2006</td>\n",
              "      <td>0</td>\n",
              "      <td>1</td>\n",
              "      <td>5829</td>\n",
              "      <td>9328</td>\n",
              "      <td>439</td>\n",
              "      <td>0</td>\n",
              "      <td>1</td>\n",
              "      <td>1093719.6</td>\n",
              "      <td>Basic</td>\n",
              "    </tr>\n",
              "    <tr>\n",
              "      <th>5</th>\n",
              "      <td>30300</td>\n",
              "      <td>49</td>\n",
              "      <td>0</td>\n",
              "      <td>0</td>\n",
              "      <td>74</td>\n",
              "      <td>95266</td>\n",
              "      <td>7</td>\n",
              "      <td>3</td>\n",
              "      <td>1998</td>\n",
              "      <td>1</td>\n",
              "      <td>0</td>\n",
              "      <td>6474</td>\n",
              "      <td>5517</td>\n",
              "      <td>988</td>\n",
              "      <td>0</td>\n",
              "      <td>1</td>\n",
              "      <td>3033117.8</td>\n",
              "      <td>Basic</td>\n",
              "    </tr>\n",
              "    <tr>\n",
              "      <th>6</th>\n",
              "      <td>58752</td>\n",
              "      <td>79</td>\n",
              "      <td>0</td>\n",
              "      <td>0</td>\n",
              "      <td>98</td>\n",
              "      <td>82396</td>\n",
              "      <td>4</td>\n",
              "      <td>9</td>\n",
              "      <td>1997</td>\n",
              "      <td>0</td>\n",
              "      <td>1</td>\n",
              "      <td>9961</td>\n",
              "      <td>3122</td>\n",
              "      <td>831</td>\n",
              "      <td>0</td>\n",
              "      <td>4</td>\n",
              "      <td>5881679.7</td>\n",
              "      <td>Basic</td>\n",
              "    </tr>\n",
              "    <tr>\n",
              "      <th>7</th>\n",
              "      <td>75927</td>\n",
              "      <td>100</td>\n",
              "      <td>1</td>\n",
              "      <td>1</td>\n",
              "      <td>38</td>\n",
              "      <td>55528</td>\n",
              "      <td>5</td>\n",
              "      <td>3</td>\n",
              "      <td>2001</td>\n",
              "      <td>1</td>\n",
              "      <td>0</td>\n",
              "      <td>4681</td>\n",
              "      <td>1453</td>\n",
              "      <td>472</td>\n",
              "      <td>1</td>\n",
              "      <td>7</td>\n",
              "      <td>7599356.1</td>\n",
              "      <td>Luxury</td>\n",
              "    </tr>\n",
              "    <tr>\n",
              "      <th>8</th>\n",
              "      <td>77913</td>\n",
              "      <td>53</td>\n",
              "      <td>1</td>\n",
              "      <td>1</td>\n",
              "      <td>64</td>\n",
              "      <td>12082</td>\n",
              "      <td>1</td>\n",
              "      <td>10</td>\n",
              "      <td>2007</td>\n",
              "      <td>0</td>\n",
              "      <td>1</td>\n",
              "      <td>328</td>\n",
              "      <td>6752</td>\n",
              "      <td>609</td>\n",
              "      <td>1</td>\n",
              "      <td>10</td>\n",
              "      <td>7801697.7</td>\n",
              "      <td>Basic</td>\n",
              "    </tr>\n",
              "    <tr>\n",
              "      <th>9</th>\n",
              "      <td>59800</td>\n",
              "      <td>47</td>\n",
              "      <td>0</td>\n",
              "      <td>1</td>\n",
              "      <td>27</td>\n",
              "      <td>44815</td>\n",
              "      <td>6</td>\n",
              "      <td>9</td>\n",
              "      <td>2021</td>\n",
              "      <td>0</td>\n",
              "      <td>0</td>\n",
              "      <td>5075</td>\n",
              "      <td>3104</td>\n",
              "      <td>864</td>\n",
              "      <td>0</td>\n",
              "      <td>4</td>\n",
              "      <td>5984462.1</td>\n",
              "      <td>Basic</td>\n",
              "    </tr>\n",
              "  </tbody>\n",
              "</table>\n",
              "</div>"
            ],
            "text/plain": [
              "   squareMeters  numberOfRooms  hasYard  hasPool  floors  cityCode  \\\n",
              "0         26506             95        0        1      69     86093   \n",
              "1         48403             62        0        0       3     52029   \n",
              "2         85429             60        1        1      57     75588   \n",
              "3         58394             19        1        0      56     19251   \n",
              "4         10830             28        0        1      65     56534   \n",
              "5         30300             49        0        0      74     95266   \n",
              "6         58752             79        0        0      98     82396   \n",
              "7         75927            100        1        1      38     55528   \n",
              "8         77913             53        1        1      64     12082   \n",
              "9         59800             47        0        1      27     44815   \n",
              "\n",
              "   cityPartRange  numPrevOwners  made  isNewBuilt  hasStormProtector  \\\n",
              "0              4              3  2015           1                  0   \n",
              "1              4              9  1996           1                  0   \n",
              "2              7              6  2016           1                  1   \n",
              "3              6              3  2001           0                  0   \n",
              "4              5              8  2006           0                  1   \n",
              "5              7              3  1998           1                  0   \n",
              "6              4              9  1997           0                  1   \n",
              "7              5              3  2001           1                  0   \n",
              "8              1             10  2007           0                  1   \n",
              "9              6              9  2021           0                  0   \n",
              "\n",
              "   basement  attic  garage  hasStorageRoom  hasGuestRoom      price category  \n",
              "0      9373   6376     509               0             1  2660579.5    Basic  \n",
              "1      5786   9954     941               0            10  4841127.6    Basic  \n",
              "2      1421   6473     405               0             8  8553293.6   Luxury  \n",
              "3      3215   9841     239               0             8  5848843.1    Basic  \n",
              "4      5829   9328     439               0             1  1093719.6    Basic  \n",
              "5      6474   5517     988               0             1  3033117.8    Basic  \n",
              "6      9961   3122     831               0             4  5881679.7    Basic  \n",
              "7      4681   1453     472               1             7  7599356.1   Luxury  \n",
              "8       328   6752     609               1            10  7801697.7    Basic  \n",
              "9      5075   3104     864               0             4  5984462.1    Basic  "
            ]
          },
          "execution_count": 48,
          "metadata": {},
          "output_type": "execute_result"
        }
      ],
      "source": [
        "# Cek kembali data inference yg sudah kita split di awal\n",
        "df_inf"
      ]
    },
    {
      "cell_type": "code",
      "execution_count": 49,
      "metadata": {},
      "outputs": [],
      "source": [
        "# split untuk model classification dan regresi\n",
        "# Target classification\n",
        "inf_class = df_inf.drop('price', axis=1)\n",
        "\n",
        "# Target Regresi\n",
        "inf_reg = df_inf.drop('category', axis=1)"
      ]
    },
    {
      "cell_type": "code",
      "execution_count": 50,
      "metadata": {},
      "outputs": [],
      "source": [
        "# target Classification\n",
        "# Split between X (features) and y (target)\n",
        "\n",
        "X_f1 = inf_class.drop('category', axis=1)\n",
        "y_f1 = inf_class['category']\n",
        "\n",
        "# target Regresi\n",
        "# Split between X (features) and y (target)\n",
        "\n",
        "X_f2 = inf_reg.drop('price', axis=1)\n",
        "y_f2 = inf_reg['price']"
      ]
    },
    {
      "cell_type": "code",
      "execution_count": 51,
      "metadata": {},
      "outputs": [],
      "source": [
        "# Split Train-Set and Test-Set berdasrkan tipe kolom (Numerical/Categorical)\n",
        "# Target Classification\n",
        "X_f1_num = X_f1[num_columns]\n",
        "X_f1_cat = X_f1[cat_columns]\n",
        "\n",
        "# Target Regresion\n",
        "X_f2_num = X_f2[num_columns]\n",
        "X_f2_cat = X_f2[cat_columns]\n",
        "\n",
        "# Label Encode\n",
        "y_f1 = y_f1.replace({'Basic':0,'Luxury':1})"
      ]
    },
    {
      "cell_type": "code",
      "execution_count": 52,
      "metadata": {},
      "outputs": [],
      "source": [
        "# Concatined data inference\n",
        "inf_final1 = np.concatenate([X_f1_num, X_f1_cat], axis=1)\n",
        "\n",
        "inf_final2 = np.concatenate([X_f2_num,X_f2_cat], axis=1)"
      ]
    },
    {
      "cell_type": "code",
      "execution_count": 57,
      "metadata": {},
      "outputs": [],
      "source": [
        "# Scaling data numerik\n",
        "# scaler1.fit(inf_final1)\n",
        "inf_final1_scaled = scaler1.transform(inf_final1)\n",
        "\n",
        "# scaler2.fit(inf_final2)\n",
        "inf_final2_scaled = scaler2.transform(inf_final2)"
      ]
    },
    {
      "cell_type": "code",
      "execution_count": 69,
      "metadata": {},
      "outputs": [],
      "source": [
        "# Predict data inference dengan Best Hyperparameter Random forest\n",
        "y_pred_inf1 = rf_gridcv_best.predict(inf_final1_scaled)\n",
        "\n",
        "y_pred_inf2 = model_lingreg.predict(inf_final2_scaled)"
      ]
    },
    {
      "cell_type": "code",
      "execution_count": 59,
      "metadata": {},
      "outputs": [
        {
          "data": {
            "text/html": [
              "<div>\n",
              "<style scoped>\n",
              "    .dataframe tbody tr th:only-of-type {\n",
              "        vertical-align: middle;\n",
              "    }\n",
              "\n",
              "    .dataframe tbody tr th {\n",
              "        vertical-align: top;\n",
              "    }\n",
              "\n",
              "    .dataframe thead th {\n",
              "        text-align: right;\n",
              "    }\n",
              "</style>\n",
              "<table border=\"1\" class=\"dataframe\">\n",
              "  <thead>\n",
              "    <tr style=\"text-align: right;\">\n",
              "      <th></th>\n",
              "      <th>category</th>\n",
              "      <th>category_predict</th>\n",
              "    </tr>\n",
              "  </thead>\n",
              "  <tbody>\n",
              "    <tr>\n",
              "      <th>0</th>\n",
              "      <td>0</td>\n",
              "      <td>0</td>\n",
              "    </tr>\n",
              "    <tr>\n",
              "      <th>1</th>\n",
              "      <td>0</td>\n",
              "      <td>0</td>\n",
              "    </tr>\n",
              "    <tr>\n",
              "      <th>2</th>\n",
              "      <td>1</td>\n",
              "      <td>1</td>\n",
              "    </tr>\n",
              "    <tr>\n",
              "      <th>3</th>\n",
              "      <td>0</td>\n",
              "      <td>0</td>\n",
              "    </tr>\n",
              "    <tr>\n",
              "      <th>4</th>\n",
              "      <td>0</td>\n",
              "      <td>0</td>\n",
              "    </tr>\n",
              "    <tr>\n",
              "      <th>5</th>\n",
              "      <td>0</td>\n",
              "      <td>0</td>\n",
              "    </tr>\n",
              "    <tr>\n",
              "      <th>6</th>\n",
              "      <td>0</td>\n",
              "      <td>0</td>\n",
              "    </tr>\n",
              "    <tr>\n",
              "      <th>7</th>\n",
              "      <td>1</td>\n",
              "      <td>1</td>\n",
              "    </tr>\n",
              "    <tr>\n",
              "      <th>8</th>\n",
              "      <td>0</td>\n",
              "      <td>0</td>\n",
              "    </tr>\n",
              "    <tr>\n",
              "      <th>9</th>\n",
              "      <td>0</td>\n",
              "      <td>0</td>\n",
              "    </tr>\n",
              "  </tbody>\n",
              "</table>\n",
              "</div>"
            ],
            "text/plain": [
              "   category  category_predict\n",
              "0         0                 0\n",
              "1         0                 0\n",
              "2         1                 1\n",
              "3         0                 0\n",
              "4         0                 0\n",
              "5         0                 0\n",
              "6         0                 0\n",
              "7         1                 1\n",
              "8         0                 0\n",
              "9         0                 0"
            ]
          },
          "execution_count": 59,
          "metadata": {},
          "output_type": "execute_result"
        }
      ],
      "source": [
        "# cek akurasi data inference\n",
        "pred_acc1 = pd.DataFrame(y_pred_inf1, columns=['category_predict'])\n",
        "\n",
        "predict_infcat = pd.concat([y_f1, pred_acc1], axis=1)\n",
        "predict_infcat"
      ]
    },
    {
      "cell_type": "code",
      "execution_count": 70,
      "metadata": {},
      "outputs": [
        {
          "data": {
            "text/html": [
              "<div>\n",
              "<style scoped>\n",
              "    .dataframe tbody tr th:only-of-type {\n",
              "        vertical-align: middle;\n",
              "    }\n",
              "\n",
              "    .dataframe tbody tr th {\n",
              "        vertical-align: top;\n",
              "    }\n",
              "\n",
              "    .dataframe thead th {\n",
              "        text-align: right;\n",
              "    }\n",
              "</style>\n",
              "<table border=\"1\" class=\"dataframe\">\n",
              "  <thead>\n",
              "    <tr style=\"text-align: right;\">\n",
              "      <th></th>\n",
              "      <th>price</th>\n",
              "      <th>price_predict</th>\n",
              "    </tr>\n",
              "  </thead>\n",
              "  <tbody>\n",
              "    <tr>\n",
              "      <th>0</th>\n",
              "      <td>2660579.5</td>\n",
              "      <td>3488.660242</td>\n",
              "    </tr>\n",
              "    <tr>\n",
              "      <th>1</th>\n",
              "      <td>4841127.6</td>\n",
              "      <td>482.843023</td>\n",
              "    </tr>\n",
              "    <tr>\n",
              "      <th>2</th>\n",
              "      <td>8553293.6</td>\n",
              "      <td>6692.681377</td>\n",
              "    </tr>\n",
              "    <tr>\n",
              "      <th>3</th>\n",
              "      <td>5848843.1</td>\n",
              "      <td>3392.803047</td>\n",
              "    </tr>\n",
              "    <tr>\n",
              "      <th>4</th>\n",
              "      <td>1093719.6</td>\n",
              "      <td>3464.005787</td>\n",
              "    </tr>\n",
              "    <tr>\n",
              "      <th>5</th>\n",
              "      <td>3033117.8</td>\n",
              "      <td>525.817771</td>\n",
              "    </tr>\n",
              "    <tr>\n",
              "      <th>6</th>\n",
              "      <td>5881679.7</td>\n",
              "      <td>537.773589</td>\n",
              "    </tr>\n",
              "    <tr>\n",
              "      <th>7</th>\n",
              "      <td>7599356.1</td>\n",
              "      <td>6564.807733</td>\n",
              "    </tr>\n",
              "    <tr>\n",
              "      <th>8</th>\n",
              "      <td>7801697.7</td>\n",
              "      <td>6546.508474</td>\n",
              "    </tr>\n",
              "    <tr>\n",
              "      <th>9</th>\n",
              "      <td>5984462.1</td>\n",
              "      <td>3360.283298</td>\n",
              "    </tr>\n",
              "  </tbody>\n",
              "</table>\n",
              "</div>"
            ],
            "text/plain": [
              "       price  price_predict\n",
              "0  2660579.5    3488.660242\n",
              "1  4841127.6     482.843023\n",
              "2  8553293.6    6692.681377\n",
              "3  5848843.1    3392.803047\n",
              "4  1093719.6    3464.005787\n",
              "5  3033117.8     525.817771\n",
              "6  5881679.7     537.773589\n",
              "7  7599356.1    6564.807733\n",
              "8  7801697.7    6546.508474\n",
              "9  5984462.1    3360.283298"
            ]
          },
          "execution_count": 70,
          "metadata": {},
          "output_type": "execute_result"
        }
      ],
      "source": [
        "# cek akurasi data inference\n",
        "pred_acc2 = pd.DataFrame(y_pred_inf2, columns=['price_predict'])\n",
        "\n",
        "predict_infreg = pd.concat([y_f2, pred_acc2], axis=1)\n",
        "predict_infreg"
      ]
    },
    {
      "cell_type": "markdown",
      "metadata": {},
      "source": [
        "# 11. Pipeline"
      ]
    },
    {
      "cell_type": "code",
      "execution_count": 72,
      "metadata": {},
      "outputs": [],
      "source": [
        "pipeline = make_pipeline(StandardScaler(),\n",
        "                         RandomForestClassifier())"
      ]
    },
    {
      "cell_type": "code",
      "execution_count": 74,
      "metadata": {},
      "outputs": [],
      "source": [
        "with open('paris_pipe.pkl','wb') as f:\n",
        "    pickle.dump(pipeline, f)"
      ]
    },
    {
      "cell_type": "markdown",
      "metadata": {},
      "source": []
    },
    {
      "cell_type": "markdown",
      "metadata": {
        "id": "_r9f3NMMqoGS"
      },
      "source": [
        "# 12. Pengambilan Kesimpulan"
      ]
    },
    {
      "cell_type": "markdown",
      "metadata": {
        "id": "wA5_CKToqskc"
      },
      "source": [
        "> Pada bagian terakhir ini, **harus berisi** kesimpulan yang mencerminkan hasil yang didapat dengan *objective* yang sudah ditulis di bagian pengenalan."
      ]
    },
    {
      "cell_type": "markdown",
      "metadata": {},
      "source": [
        "- Exp :\n",
        "    > - Model ini bertujuan untuk mengetahui tipe kluster atau perumahan yang berada di Paris\n",
        "    > - Pada dataset yang telah tersedia, saya tidak menggunakan kolom kode pos dan tahun pembangunan dikarenakan kolom tersebut terlalu uniqe\n",
        "    > - Saya Mencoba menggunakan 5 model dalam sklearn untuk target klassifikasi\n",
        "    > - Dari kelima model tersebut, model Random Forest Classifer memiliki tingkat Accuracy, Precision, Recalll, dan F1score yang paling terbaik dibandingkan model lain\n",
        "    > - Setelah Menentukan Model yang akan di pilih yaitu Random Forest Classifier saya melakukan model improvement dengan menggunakan grid search dan mendapatkan best parameter\n",
        "    > - Saya juga melakukan prediksi terhapat harga perumahan yang ada di Paris\n",
        "    > - Untuk prediksi harga saya menggunakan 3 model pada sklearn\n",
        "    > - Dari ketiga model tersebut, model Linier regresor memiliki R^2 score, Mean Square Eror, dan MAE yang lebih baik di bandingkan model lain\n"
      ]
    }
  ],
  "metadata": {
    "colab": {
      "name": "DraftP1.ipynb",
      "provenance": [],
      "toc_visible": true
    },
    "interpreter": {
      "hash": "88279d2366fe020547cde40dd65aa0e3aa662a6ec1f3ca12d88834876c85e1a6"
    },
    "kernelspec": {
      "display_name": "Python 3.9.7 ('base')",
      "language": "python",
      "name": "python3"
    },
    "language_info": {
      "codemirror_mode": {
        "name": "ipython",
        "version": 3
      },
      "file_extension": ".py",
      "mimetype": "text/x-python",
      "name": "python",
      "nbconvert_exporter": "python",
      "pygments_lexer": "ipython3",
      "version": "3.9.7"
    }
  },
  "nbformat": 4,
  "nbformat_minor": 0
}
